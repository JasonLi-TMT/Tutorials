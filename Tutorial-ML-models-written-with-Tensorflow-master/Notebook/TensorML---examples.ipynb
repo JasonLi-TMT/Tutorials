{
 "cells": [
  {
   "cell_type": "code",
   "execution_count": 4,
   "metadata": {},
   "outputs": [],
   "source": [
    "import sys\n",
    "sys.path.append(\"/Users/zishuoli/Doc/project/tensorflow_ML/lib/\")"
   ]
  },
  {
   "cell_type": "code",
   "execution_count": 10,
   "metadata": {},
   "outputs": [],
   "source": [
    "import Tensorflow_ML\n",
    "import importlib"
   ]
  },
  {
   "cell_type": "code",
   "execution_count": 11,
   "metadata": {},
   "outputs": [],
   "source": [
    "import numpy as np\n",
    "import pandas as pd\n",
    "import matplotlib.pyplot as plt\n",
    "\n",
    "\n",
    "import tensorflow as tf"
   ]
  },
  {
   "cell_type": "markdown",
   "metadata": {},
   "source": [
    "## Linear regression"
   ]
  },
  {
   "cell_type": "code",
   "execution_count": 12,
   "metadata": {},
   "outputs": [],
   "source": [
    "lr = Tensorflow_ML.linear_regression()"
   ]
  },
  {
   "cell_type": "code",
   "execution_count": 13,
   "metadata": {},
   "outputs": [],
   "source": [
    "train_X = np.asarray([3.3,4.4,5.5,6.71,6.93,4.168,9.779,6.182,7.59,2.167,\n",
    "                         7.042,10.791,5.313,7.997,5.654,9.27,3.1])\n",
    "train_Y = np.asarray([1.7,2.76,2.09,3.19,1.694,1.573,3.366,2.596,2.53,1.221,\n",
    "                         2.827,3.465,1.65,2.904,2.42,2.94,1.3])"
   ]
  },
  {
   "cell_type": "code",
   "execution_count": 14,
   "metadata": {
    "scrolled": true
   },
   "outputs": [
    {
     "name": "stdout",
     "output_type": "stream",
     "text": [
      "epoch:0, cost:0.3837345540523529\n",
      "epoch:500, cost:0.17324432730674744\n"
     ]
    }
   ],
   "source": [
    "lr.fit(train_X,train_Y,learning_rate=0.01,epochs=501,display_freq=500)"
   ]
  },
  {
   "cell_type": "code",
   "execution_count": 15,
   "metadata": {},
   "outputs": [
    {
     "data": {
      "text/plain": [
       "{'Bias': 0.40307513, 'Weight': 0.3074532}"
      ]
     },
     "execution_count": 15,
     "metadata": {},
     "output_type": "execute_result"
    }
   ],
   "source": [
    "lr.params"
   ]
  },
  {
   "cell_type": "markdown",
   "metadata": {},
   "source": [
    "## Logistic regression"
   ]
  },
  {
   "cell_type": "code",
   "execution_count": 23,
   "metadata": {},
   "outputs": [
    {
     "name": "stdout",
     "output_type": "stream",
     "text": [
      "Extracting /tmp/data/train-images-idx3-ubyte.gz\n",
      "Extracting /tmp/data/train-labels-idx1-ubyte.gz\n",
      "Extracting /tmp/data/t10k-images-idx3-ubyte.gz\n",
      "Extracting /tmp/data/t10k-labels-idx1-ubyte.gz\n"
     ]
    }
   ],
   "source": [
    "# Import MINST data\n",
    "from tensorflow.examples.tutorials.mnist import input_data\n",
    "mnist = input_data.read_data_sets(\"/tmp/data/\", one_hot=True)\n",
    "train_x,train_y = mnist.train.next_batch(20)"
   ]
  },
  {
   "cell_type": "code",
   "execution_count": 24,
   "metadata": {},
   "outputs": [],
   "source": [
    "lr_ = Tensorflow_ML.logistic_regression(num_features=784,num_output=10)"
   ]
  },
  {
   "cell_type": "code",
   "execution_count": 25,
   "metadata": {},
   "outputs": [
    {
     "name": "stdout",
     "output_type": "stream",
     "text": [
      "epoch:0, cost:16.253999710083008\n",
      "epoch:400, cost:0.9723682403564453\n",
      "epoch:800, cost:0.07313047349452972\n",
      "epoch:1200, cost:0.03361276537179947\n",
      "epoch:1600, cost:0.021866953000426292\n"
     ]
    }
   ],
   "source": [
    "lr_.fit(train_x,train_y,epochs=2000,display_freq=400)"
   ]
  },
  {
   "cell_type": "markdown",
   "metadata": {},
   "source": [
    "## Randomforest"
   ]
  },
  {
   "cell_type": "code",
   "execution_count": 26,
   "metadata": {},
   "outputs": [
    {
     "data": {
      "text/plain": [
       "<module 'Tensorflow_ML' from '/Users/zishuoli/Doc/project/tensorflow_ML/lib/Tensorflow_ML.py'>"
      ]
     },
     "execution_count": 26,
     "metadata": {},
     "output_type": "execute_result"
    }
   ],
   "source": [
    "importlib.reload(Tensorflow_ML)"
   ]
  },
  {
   "cell_type": "code",
   "execution_count": 27,
   "metadata": {
    "scrolled": false
   },
   "outputs": [
    {
     "name": "stdout",
     "output_type": "stream",
     "text": [
      "test 1\n",
      "INFO:tensorflow:Constructing forest with params = \n",
      "INFO:tensorflow:{'collate_examples': False, 'early_finish_check_every_samples': 0, 'valid_leaf_threshold': 1, 'split_finish_name': 'basic', 'num_classes': 10, 'dominate_method': 'bootstrap', 'model_name': 'all_dense', 'split_pruning_name': 'none', 'max_nodes': 1000, 'leaf_model_type': 0, 'num_output_columns': 11, 'split_after_samples': 250, 'checkpoint_stats': False, 'num_splits_to_consider': 28, 'num_outputs': 1, 'bagged_features': None, 'use_running_stats_method': False, 'split_name': 'less_or_equal', 'regression': False, 'base_random_seed': 0, 'inference_tree_paths': False, 'initialize_average_splits': False, 'pruning_type': 0, 'finish_type': 0, 'bagging_fraction': 1.0, 'bagged_num_features': 784, 'num_features': 784, 'stats_model_type': 0, 'dominate_fraction': 0.99, 'feature_bagging_fraction': 1.0, 'max_fertile_nodes': 0, 'param_file': None, 'num_trees': 10, 'split_type': 0, 'prune_every_samples': 0}\n",
      "test 2\n"
     ]
    }
   ],
   "source": [
    "rf = Tensorflow_ML.randomforest(num_classes = 10,\n",
    "                                  num_features = 784,\n",
    "                                  num_trees = 10,\n",
    "                                  max_nodes = 1000)"
   ]
  },
  {
   "cell_type": "code",
   "execution_count": 33,
   "metadata": {},
   "outputs": [
    {
     "name": "stdout",
     "output_type": "stream",
     "text": [
      "Extracting /tmp/data/train-images-idx3-ubyte.gz\n",
      "Extracting /tmp/data/train-labels-idx1-ubyte.gz\n",
      "Extracting /tmp/data/t10k-images-idx3-ubyte.gz\n",
      "Extracting /tmp/data/t10k-labels-idx1-ubyte.gz\n"
     ]
    }
   ],
   "source": [
    "from tensorflow.examples.tutorials.mnist import input_data\n",
    "mnist = input_data.read_data_sets(\"/tmp/data/\", one_hot=False)\n",
    "batch_x, batch_y = mnist.train.next_batch(100)"
   ]
  },
  {
   "cell_type": "code",
   "execution_count": 34,
   "metadata": {},
   "outputs": [
    {
     "name": "stdout",
     "output_type": "stream",
     "text": [
      "Step 0, Loss: -1.000000, Acc: 0.140000\n",
      "Step 50, Loss: -26.600000, Acc: 0.940000\n"
     ]
    }
   ],
   "source": [
    "rf.fit(batch_x,batch_y,epochs=100,display_freq=50)"
   ]
  }
 ],
 "metadata": {
  "kernelspec": {
   "display_name": "Python 3",
   "language": "python",
   "name": "python3"
  },
  "language_info": {
   "codemirror_mode": {
    "name": "ipython",
    "version": 3
   },
   "file_extension": ".py",
   "mimetype": "text/x-python",
   "name": "python",
   "nbconvert_exporter": "python",
   "pygments_lexer": "ipython3",
   "version": "3.5.2"
  }
 },
 "nbformat": 4,
 "nbformat_minor": 2
}
