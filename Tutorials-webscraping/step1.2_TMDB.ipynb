{
 "cells": [
  {
   "cell_type": "code",
<<<<<<< HEAD
   "execution_count": 3,
=======
   "execution_count": 4,
>>>>>>> f9524a0a552a8bb4f67f22394dba79c504d62323
   "metadata": {},
   "outputs": [],
   "source": [
    "from bs4 import BeautifulSoup\n",
    "import requests"
   ]
  },
  {
   "cell_type": "code",
<<<<<<< HEAD
   "execution_count": 4,
=======
   "execution_count": 5,
>>>>>>> f9524a0a552a8bb4f67f22394dba79c504d62323
   "metadata": {},
   "outputs": [],
   "source": [
    "url = \"https://www.themoviedb.org/movie?language=en-US\""
   ]
  },
  {
   "cell_type": "code",
<<<<<<< HEAD
   "execution_count": 5,
=======
   "execution_count": 9,
>>>>>>> f9524a0a552a8bb4f67f22394dba79c504d62323
   "metadata": {},
   "outputs": [],
   "source": [
    "response = requests.get(url)\n",
    "\n",
    "soup = BeautifulSoup(response.text, 'lxml') \n",
    "# soup = BeautifulSoup(response.content, 'html.parser')"
   ]
  },
  {
   "cell_type": "markdown",
   "metadata": {},
   "source": [
    "# Movie Poster Url Scrape"
   ]
  },
  {
   "cell_type": "code",
<<<<<<< HEAD
   "execution_count": 7,
=======
   "execution_count": 41,
>>>>>>> f9524a0a552a8bb4f67f22394dba79c504d62323
   "metadata": {},
   "outputs": [
    {
     "data": {
      "text/plain": [
       "[<div class=\"image_content\">\n",
       " <a alt=\"Aquaman\" class=\"result\" href=\"/movie/297802?language=en-US\" id=\"movie_297802\" title=\"Aquaman\">\n",
<<<<<<< HEAD
       " <img alt=\"Aquaman\" class=\"poster lazyload fade\" data-sizes=\"auto\" data-src=\"https://image.tmdb.org/t/p/w185_and_h278_bestv2/5Kg76ldv7VxeX9YlcQXiowHgdX6.jpg\" data-srcset=\"https://image.tmdb.org/t/p/w185_and_h278_bestv2/5Kg76ldv7VxeX9YlcQXiowHgdX6.jpg 1x, https://image.tmdb.org/t/p/w370_and_h556_bestv2/5Kg76ldv7VxeX9YlcQXiowHgdX6.jpg 2x\"/>\n",
=======
       " <img alt=\"Aquaman\" class=\"poster lazyload fade\" data-sizes=\"auto\" data-src=\"https://image.tmdb.org/t/p/w185_and_h278_bestv2/i2dF9UxOeb77CAJrOflj0RpqJRF.jpg\" data-srcset=\"https://image.tmdb.org/t/p/w185_and_h278_bestv2/i2dF9UxOeb77CAJrOflj0RpqJRF.jpg 1x, https://image.tmdb.org/t/p/w370_and_h556_bestv2/i2dF9UxOeb77CAJrOflj0RpqJRF.jpg 2x\"/>\n",
>>>>>>> f9524a0a552a8bb4f67f22394dba79c504d62323
       " <div class=\"meta\">\n",
       " <span class=\"hide popularity_rank_value\" id=\"popularity_5440274e0e0a260269000626_value\">\n",
       " <div class=\"tooltip_popup popularity\">\n",
       " <h3>Popularity Rank</h3>\n",
       " <p><span>Today:</span> 1</p>\n",
       " <p><span>Last Week:</span> 1</p>\n",
       " </div>\n",
       " </span>\n",
       " <span class=\"glyphicons glyphicons-cardio x1 popularity_rank\" id=\"popularity_5440274e0e0a260269000626\"></span>\n",
       " <span class=\"right\">\n",
       " </span>\n",
       " </div>\n",
       " </a>\n",
       " </div>, <div class=\"image_content\">\n",
       " <a alt=\"Bumblebee\" class=\"result\" href=\"/movie/424783?language=en-US\" id=\"movie_424783\" title=\"Bumblebee\">\n",
<<<<<<< HEAD
       " <img alt=\"Bumblebee\" class=\"poster lazyload fade\" data-sizes=\"auto\" data-src=\"https://image.tmdb.org/t/p/w185_and_h278_bestv2/fw02ONlDhrYjTSZV8XO6hhU3ds3.jpg\" data-srcset=\"https://image.tmdb.org/t/p/w185_and_h278_bestv2/fw02ONlDhrYjTSZV8XO6hhU3ds3.jpg 1x, https://image.tmdb.org/t/p/w370_and_h556_bestv2/fw02ONlDhrYjTSZV8XO6hhU3ds3.jpg 2x\"/>\n",
=======
       " <img alt=\"Bumblebee\" class=\"poster lazyload fade\" data-sizes=\"auto\" data-src=\"https://image.tmdb.org/t/p/w185_and_h278_bestv2/sG6n4ei1F0kVQtTs3fAjDghngpa.jpg\" data-srcset=\"https://image.tmdb.org/t/p/w185_and_h278_bestv2/sG6n4ei1F0kVQtTs3fAjDghngpa.jpg 1x, https://image.tmdb.org/t/p/w370_and_h556_bestv2/sG6n4ei1F0kVQtTs3fAjDghngpa.jpg 2x\"/>\n",
>>>>>>> f9524a0a552a8bb4f67f22394dba79c504d62323
       " <div class=\"meta\">\n",
       " <span class=\"hide popularity_rank_value\" id=\"popularity_581f942492514168af0045ec_value\">\n",
       " <div class=\"tooltip_popup popularity\">\n",
       " <h3>Popularity Rank</h3>\n",
       " <p><span>Today:</span> 2</p>\n",
<<<<<<< HEAD
       " <p><span>Last Week:</span> 2</p>\n",
=======
       " <p><span>Last Week:</span> 9</p>\n",
>>>>>>> f9524a0a552a8bb4f67f22394dba79c504d62323
       " </div>\n",
       " </span>\n",
       " <span class=\"glyphicons glyphicons-cardio x1 popularity_rank\" id=\"popularity_581f942492514168af0045ec\"></span>\n",
       " <span class=\"right\">\n",
       " </span>\n",
       " </div>\n",
       " </a>\n",
       " </div>, <div class=\"image_content\">\n",
<<<<<<< HEAD
       " <a alt=\"Mary Poppins Returns\" class=\"result\" href=\"/movie/400650?language=en-US\" id=\"movie_400650\" title=\"Mary Poppins Returns\">\n",
       " <img alt=\"Mary Poppins Returns\" class=\"poster lazyload fade\" data-sizes=\"auto\" data-src=\"https://image.tmdb.org/t/p/w185_and_h278_bestv2/uTVGku4LibMGyKgQvjBtv3OYfAX.jpg\" data-srcset=\"https://image.tmdb.org/t/p/w185_and_h278_bestv2/uTVGku4LibMGyKgQvjBtv3OYfAX.jpg 1x, https://image.tmdb.org/t/p/w370_and_h556_bestv2/uTVGku4LibMGyKgQvjBtv3OYfAX.jpg 2x\"/>\n",
       " <div class=\"meta\">\n",
       " <span class=\"hide popularity_rank_value\" id=\"popularity_5751bcbe9251416b54000034_value\">\n",
=======
       " <a alt=\"Fantastic Beasts: The Crimes of Grindelwald\" class=\"result\" href=\"/movie/338952?language=en-US\" id=\"movie_338952\" title=\"Fantastic Beasts: The Crimes of Grindelwald\">\n",
       " <img alt=\"Fantastic Beasts: The Crimes of Grindelwald\" class=\"poster lazyload fade\" data-sizes=\"auto\" data-src=\"https://image.tmdb.org/t/p/w185_and_h278_bestv2/kQKcbJ9uYkTQql2R8L4jTUz7l90.jpg\" data-srcset=\"https://image.tmdb.org/t/p/w185_and_h278_bestv2/kQKcbJ9uYkTQql2R8L4jTUz7l90.jpg 1x, https://image.tmdb.org/t/p/w370_and_h556_bestv2/kQKcbJ9uYkTQql2R8L4jTUz7l90.jpg 2x\"/>\n",
       " <div class=\"meta\">\n",
       " <span class=\"hide popularity_rank_value\" id=\"popularity_5549dac692514104c0001865_value\">\n",
>>>>>>> f9524a0a552a8bb4f67f22394dba79c504d62323
       " <div class=\"tooltip_popup popularity\">\n",
       " <h3>Popularity Rank</h3>\n",
       " <p><span>Today:</span> 3</p>\n",
       " <p><span>Last Week:</span> 3</p>\n",
       " </div>\n",
       " </span>\n",
<<<<<<< HEAD
       " <span class=\"glyphicons glyphicons-cardio x1 popularity_rank\" id=\"popularity_5751bcbe9251416b54000034\"></span>\n",
=======
       " <span class=\"glyphicons glyphicons-cardio x1 popularity_rank\" id=\"popularity_5549dac692514104c0001865\"></span>\n",
>>>>>>> f9524a0a552a8bb4f67f22394dba79c504d62323
       " <span class=\"right\">\n",
       " </span>\n",
       " </div>\n",
       " </a>\n",
       " </div>, <div class=\"image_content\">\n",
<<<<<<< HEAD
       " <a alt=\"The Mule\" class=\"result\" href=\"/movie/504172?language=en-US\" id=\"movie_504172\" title=\"The Mule\">\n",
       " <img alt=\"The Mule\" class=\"poster lazyload fade\" data-sizes=\"auto\" data-src=\"https://image.tmdb.org/t/p/w185_and_h278_bestv2/t0idiLMalKMj2pLsvqHrOM4LPdQ.jpg\" data-srcset=\"https://image.tmdb.org/t/p/w185_and_h278_bestv2/t0idiLMalKMj2pLsvqHrOM4LPdQ.jpg 1x, https://image.tmdb.org/t/p/w370_and_h556_bestv2/t0idiLMalKMj2pLsvqHrOM4LPdQ.jpg 2x\"/>\n",
       " <div class=\"meta\">\n",
       " <span class=\"hide popularity_rank_value\" id=\"popularity_5a7e41629251414104000ea2_value\">\n",
       " <div class=\"tooltip_popup popularity\">\n",
       " <h3>Popularity Rank</h3>\n",
       " <p><span>Today:</span> 4</p>\n",
       " <p><span>Last Week:</span> 5</p>\n",
       " </div>\n",
       " </span>\n",
       " <span class=\"glyphicons glyphicons-cardio x1 popularity_rank\" id=\"popularity_5a7e41629251414104000ea2\"></span>\n",
=======
       " <a alt=\"Venom\" class=\"result\" href=\"/movie/335983?language=en-US\" id=\"movie_335983\" title=\"Venom\">\n",
       " <img alt=\"Venom\" class=\"poster lazyload fade\" data-sizes=\"auto\" data-src=\"https://image.tmdb.org/t/p/w185_and_h278_bestv2/2uNW4WbgBXL25BAbXGLnLqX71Sw.jpg\" data-srcset=\"https://image.tmdb.org/t/p/w185_and_h278_bestv2/2uNW4WbgBXL25BAbXGLnLqX71Sw.jpg 1x, https://image.tmdb.org/t/p/w370_and_h556_bestv2/2uNW4WbgBXL25BAbXGLnLqX71Sw.jpg 2x\"/>\n",
       " <div class=\"meta\">\n",
       " <span class=\"hide popularity_rank_value\" id=\"popularity_552f0466c3a3685951000ba5_value\">\n",
       " <div class=\"tooltip_popup popularity\">\n",
       " <h3>Popularity Rank</h3>\n",
       " <p><span>Today:</span> 4</p>\n",
       " <p><span>Last Week:</span> 6</p>\n",
       " </div>\n",
       " </span>\n",
       " <span class=\"glyphicons glyphicons-cardio x1 popularity_rank\" id=\"popularity_552f0466c3a3685951000ba5\"></span>\n",
>>>>>>> f9524a0a552a8bb4f67f22394dba79c504d62323
       " <span class=\"right\">\n",
       " </span>\n",
       " </div>\n",
       " </a>\n",
       " </div>, <div class=\"image_content\">\n",
<<<<<<< HEAD
       " <a alt=\"Spider-Man: Into the Spider-Verse\" class=\"result\" href=\"/movie/324857?language=en-US\" id=\"movie_324857\" title=\"Spider-Man: Into the Spider-Verse\">\n",
       " <img alt=\"Spider-Man: Into the Spider-Verse\" class=\"poster lazyload fade\" data-sizes=\"auto\" data-src=\"https://image.tmdb.org/t/p/w185_and_h278_bestv2/laMM4lpQSh5z6KIBPwWogkjzBVQ.jpg\" data-srcset=\"https://image.tmdb.org/t/p/w185_and_h278_bestv2/laMM4lpQSh5z6KIBPwWogkjzBVQ.jpg 1x, https://image.tmdb.org/t/p/w370_and_h556_bestv2/laMM4lpQSh5z6KIBPwWogkjzBVQ.jpg 2x\"/>\n",
       " <div class=\"meta\">\n",
       " <span class=\"hide popularity_rank_value\" id=\"popularity_54db4a89925141619e0017fe_value\">\n",
       " <div class=\"tooltip_popup popularity\">\n",
       " <h3>Popularity Rank</h3>\n",
       " <p><span>Today:</span> 5</p>\n",
       " <p><span>Last Week:</span> 10</p>\n",
       " </div>\n",
       " </span>\n",
       " <span class=\"glyphicons glyphicons-cardio x1 popularity_rank\" id=\"popularity_54db4a89925141619e0017fe\"></span>\n",
=======
       " <a alt=\"Creed II\" class=\"result\" href=\"/movie/480530?language=en-US\" id=\"movie_480530\" title=\"Creed II\">\n",
       " <img alt=\"Creed II\" class=\"poster lazyload fade\" data-sizes=\"auto\" data-src=\"https://image.tmdb.org/t/p/w185_and_h278_bestv2/v3QyboWRoA4O9RbcsqH8tJMe8EB.jpg\" data-srcset=\"https://image.tmdb.org/t/p/w185_and_h278_bestv2/v3QyboWRoA4O9RbcsqH8tJMe8EB.jpg 1x, https://image.tmdb.org/t/p/w370_and_h556_bestv2/v3QyboWRoA4O9RbcsqH8tJMe8EB.jpg 2x\"/>\n",
       " <div class=\"meta\">\n",
       " <span class=\"hide popularity_rank_value\" id=\"popularity_59dcdfb592514124cd0787b2_value\">\n",
       " <div class=\"tooltip_popup popularity\">\n",
       " <h3>Popularity Rank</h3>\n",
       " <p><span>Today:</span> 5</p>\n",
       " <p><span>Last Week:</span> 4</p>\n",
       " </div>\n",
       " </span>\n",
       " <span class=\"glyphicons glyphicons-cardio x1 popularity_rank\" id=\"popularity_59dcdfb592514124cd0787b2\"></span>\n",
>>>>>>> f9524a0a552a8bb4f67f22394dba79c504d62323
       " <span class=\"right\">\n",
       " </span>\n",
       " </div>\n",
       " </a>\n",
       " </div>, <div class=\"image_content\">\n",
<<<<<<< HEAD
       " <a alt=\"Creed II\" class=\"result\" href=\"/movie/480530?language=en-US\" id=\"movie_480530\" title=\"Creed II\">\n",
       " <img alt=\"Creed II\" class=\"poster lazyload fade\" data-sizes=\"auto\" data-src=\"https://image.tmdb.org/t/p/w185_and_h278_bestv2/v3QyboWRoA4O9RbcsqH8tJMe8EB.jpg\" data-srcset=\"https://image.tmdb.org/t/p/w185_and_h278_bestv2/v3QyboWRoA4O9RbcsqH8tJMe8EB.jpg 1x, https://image.tmdb.org/t/p/w370_and_h556_bestv2/v3QyboWRoA4O9RbcsqH8tJMe8EB.jpg 2x\"/>\n",
       " <div class=\"meta\">\n",
       " <span class=\"hide popularity_rank_value\" id=\"popularity_59dcdfb592514124cd0787b2_value\">\n",
       " <div class=\"tooltip_popup popularity\">\n",
       " <h3>Popularity Rank</h3>\n",
       " <p><span>Today:</span> 6</p>\n",
       " <p><span>Last Week:</span> 8</p>\n",
       " </div>\n",
       " </span>\n",
       " <span class=\"glyphicons glyphicons-cardio x1 popularity_rank\" id=\"popularity_59dcdfb592514124cd0787b2\"></span>\n",
=======
       " <a alt=\"Crayon Shin-chan: Burst Serving! Kung Fu Boys ~Ramen Rebellion~\" class=\"result\" href=\"/movie/507562?language=en-US\" id=\"movie_507562\" title=\"Crayon Shin-chan: Burst Serving! Kung Fu Boys ~Ramen Rebellion~\">\n",
       " <img alt=\"Crayon Shin-chan: Burst Serving! Kung Fu Boys ~Ramen Rebellion~\" class=\"poster lazyload fade\" data-sizes=\"auto\" data-src=\"https://image.tmdb.org/t/p/w185_and_h278_bestv2/beQxbz53wcBHG6TzevTHvs3Gz20.jpg\" data-srcset=\"https://image.tmdb.org/t/p/w185_and_h278_bestv2/beQxbz53wcBHG6TzevTHvs3Gz20.jpg 1x, https://image.tmdb.org/t/p/w370_and_h556_bestv2/beQxbz53wcBHG6TzevTHvs3Gz20.jpg 2x\"/>\n",
       " <div class=\"meta\">\n",
       " <span class=\"hide popularity_rank_value\" id=\"popularity_5a9350460e0a2616c6028ad4_value\">\n",
       " <div class=\"tooltip_popup popularity\">\n",
       " <h3>Popularity Rank</h3>\n",
       " <p><span>Today:</span> 6</p>\n",
       " <p><span>Last Week:</span> 24</p>\n",
       " </div>\n",
       " </span>\n",
       " <span class=\"glyphicons glyphicons-cardio x1 popularity_rank\" id=\"popularity_5a9350460e0a2616c6028ad4\"></span>\n",
>>>>>>> f9524a0a552a8bb4f67f22394dba79c504d62323
       " <span class=\"right\">\n",
       " </span>\n",
       " </div>\n",
       " </a>\n",
       " </div>, <div class=\"image_content\">\n",
<<<<<<< HEAD
       " <a alt=\"Venom\" class=\"result\" href=\"/movie/335983?language=en-US\" id=\"movie_335983\" title=\"Venom\">\n",
       " <img alt=\"Venom\" class=\"poster lazyload fade\" data-sizes=\"auto\" data-src=\"https://image.tmdb.org/t/p/w185_and_h278_bestv2/2uNW4WbgBXL25BAbXGLnLqX71Sw.jpg\" data-srcset=\"https://image.tmdb.org/t/p/w185_and_h278_bestv2/2uNW4WbgBXL25BAbXGLnLqX71Sw.jpg 1x, https://image.tmdb.org/t/p/w370_and_h556_bestv2/2uNW4WbgBXL25BAbXGLnLqX71Sw.jpg 2x\"/>\n",
       " <div class=\"meta\">\n",
       " <span class=\"hide popularity_rank_value\" id=\"popularity_552f0466c3a3685951000ba5_value\">\n",
       " <div class=\"tooltip_popup popularity\">\n",
       " <h3>Popularity Rank</h3>\n",
       " <p><span>Today:</span> 7</p>\n",
       " <p><span>Last Week:</span> 6</p>\n",
       " </div>\n",
       " </span>\n",
       " <span class=\"glyphicons glyphicons-cardio x1 popularity_rank\" id=\"popularity_552f0466c3a3685951000ba5\"></span>\n",
=======
       " <a alt=\"Dragon Ball Super: Broly\" class=\"result\" href=\"/movie/503314?language=en-US\" id=\"movie_503314\" title=\"Dragon Ball Super: Broly\">\n",
       " <img alt=\"Dragon Ball Super: Broly\" class=\"poster lazyload fade\" data-sizes=\"auto\" data-src=\"https://image.tmdb.org/t/p/w185_and_h278_bestv2/518jdIQHCZmYqIcNCaqbZuDRheV.jpg\" data-srcset=\"https://image.tmdb.org/t/p/w185_and_h278_bestv2/518jdIQHCZmYqIcNCaqbZuDRheV.jpg 1x, https://image.tmdb.org/t/p/w370_and_h556_bestv2/518jdIQHCZmYqIcNCaqbZuDRheV.jpg 2x\"/>\n",
       " <div class=\"meta\">\n",
       " <span class=\"hide popularity_rank_value\" id=\"popularity_5a78e7560e0a26598801b256_value\">\n",
       " <div class=\"tooltip_popup popularity\">\n",
       " <h3>Popularity Rank</h3>\n",
       " <p><span>Today:</span> 7</p>\n",
       " <p><span>Last Week:</span> 5</p>\n",
       " </div>\n",
       " </span>\n",
       " <span class=\"glyphicons glyphicons-cardio x1 popularity_rank\" id=\"popularity_5a78e7560e0a26598801b256\"></span>\n",
>>>>>>> f9524a0a552a8bb4f67f22394dba79c504d62323
       " <span class=\"right\">\n",
       " </span>\n",
       " </div>\n",
       " </a>\n",
       " </div>, <div class=\"image_content\">\n",
<<<<<<< HEAD
       " <a alt=\"Bird Box\" class=\"result\" href=\"/movie/405774?language=en-US\" id=\"movie_405774\" title=\"Bird Box\">\n",
       " <img alt=\"Bird Box\" class=\"poster lazyload fade\" data-sizes=\"auto\" data-src=\"https://image.tmdb.org/t/p/w185_and_h278_bestv2/rGfGfgL2pEPCfhIvqHXieXFn7gp.jpg\" data-srcset=\"https://image.tmdb.org/t/p/w185_and_h278_bestv2/rGfGfgL2pEPCfhIvqHXieXFn7gp.jpg 1x, https://image.tmdb.org/t/p/w370_and_h556_bestv2/rGfGfgL2pEPCfhIvqHXieXFn7gp.jpg 2x\"/>\n",
       " <div class=\"meta\">\n",
       " <span class=\"hide popularity_rank_value\" id=\"popularity_57827b3cc3a36826c9000f3c_value\">\n",
       " <div class=\"tooltip_popup popularity\">\n",
       " <h3>Popularity Rank</h3>\n",
       " <p><span>Today:</span> 8</p>\n",
       " <p><span>Last Week:</span> 4</p>\n",
       " </div>\n",
       " </span>\n",
       " <span class=\"glyphicons glyphicons-cardio x1 popularity_rank\" id=\"popularity_57827b3cc3a36826c9000f3c\"></span>\n",
=======
       " <a alt=\"Johnny English Strikes Again\" class=\"result\" href=\"/movie/463272?language=en-US\" id=\"movie_463272\" title=\"Johnny English Strikes Again\">\n",
       " <img alt=\"Johnny English Strikes Again\" class=\"poster lazyload fade\" data-sizes=\"auto\" data-src=\"https://image.tmdb.org/t/p/w185_and_h278_bestv2/tCBxnZwLiY1BOKw3tH6AxHZdqPh.jpg\" data-srcset=\"https://image.tmdb.org/t/p/w185_and_h278_bestv2/tCBxnZwLiY1BOKw3tH6AxHZdqPh.jpg 1x, https://image.tmdb.org/t/p/w370_and_h556_bestv2/tCBxnZwLiY1BOKw3tH6AxHZdqPh.jpg 2x\"/>\n",
       " <div class=\"meta\">\n",
       " <span class=\"hide popularity_rank_value\" id=\"popularity_594f0423c3a3683265046181_value\">\n",
       " <div class=\"tooltip_popup popularity\">\n",
       " <h3>Popularity Rank</h3>\n",
       " <p><span>Today:</span> 8</p>\n",
       " <p><span>Last Week:</span> 98</p>\n",
       " </div>\n",
       " </span>\n",
       " <span class=\"glyphicons glyphicons-cardio x1 popularity_rank\" id=\"popularity_594f0423c3a3683265046181\"></span>\n",
>>>>>>> f9524a0a552a8bb4f67f22394dba79c504d62323
       " <span class=\"right\">\n",
       " </span>\n",
       " </div>\n",
       " </a>\n",
       " </div>, <div class=\"image_content\">\n",
<<<<<<< HEAD
       " <a alt=\"Vice\" class=\"result\" href=\"/movie/429197?language=en-US\" id=\"movie_429197\" title=\"Vice\">\n",
       " <img alt=\"Vice\" class=\"poster lazyload fade\" data-sizes=\"auto\" data-src=\"https://image.tmdb.org/t/p/w185_and_h278_bestv2/e0NZxqQ4B8YZ6kRrZish2DPqtdi.jpg\" data-srcset=\"https://image.tmdb.org/t/p/w185_and_h278_bestv2/e0NZxqQ4B8YZ6kRrZish2DPqtdi.jpg 1x, https://image.tmdb.org/t/p/w370_and_h556_bestv2/e0NZxqQ4B8YZ6kRrZish2DPqtdi.jpg 2x\"/>\n",
       " <div class=\"meta\">\n",
       " <span class=\"hide popularity_rank_value\" id=\"popularity_58474b9592514119af00268a_value\">\n",
       " <div class=\"tooltip_popup popularity\">\n",
       " <h3>Popularity Rank</h3>\n",
       " <p><span>Today:</span> 9</p>\n",
       " <p><span>Last Week:</span> 132</p>\n",
       " </div>\n",
       " </span>\n",
       " <span class=\"glyphicons glyphicons-cardio x1 popularity_rank\" id=\"popularity_58474b9592514119af00268a\"></span>\n",
=======
       " <a alt=\"Spider-Man: Into the Spider-Verse\" class=\"result\" href=\"/movie/324857?language=en-US\" id=\"movie_324857\" title=\"Spider-Man: Into the Spider-Verse\">\n",
       " <img alt=\"Spider-Man: Into the Spider-Verse\" class=\"poster lazyload fade\" data-sizes=\"auto\" data-src=\"https://image.tmdb.org/t/p/w185_and_h278_bestv2/laMM4lpQSh5z6KIBPwWogkjzBVQ.jpg\" data-srcset=\"https://image.tmdb.org/t/p/w185_and_h278_bestv2/laMM4lpQSh5z6KIBPwWogkjzBVQ.jpg 1x, https://image.tmdb.org/t/p/w370_and_h556_bestv2/laMM4lpQSh5z6KIBPwWogkjzBVQ.jpg 2x\"/>\n",
       " <div class=\"meta\">\n",
       " <span class=\"hide popularity_rank_value\" id=\"popularity_54db4a89925141619e0017fe_value\">\n",
       " <div class=\"tooltip_popup popularity\">\n",
       " <h3>Popularity Rank</h3>\n",
       " <p><span>Today:</span> 9</p>\n",
       " <p><span>Last Week:</span> 8</p>\n",
       " </div>\n",
       " </span>\n",
       " <span class=\"glyphicons glyphicons-cardio x1 popularity_rank\" id=\"popularity_54db4a89925141619e0017fe\"></span>\n",
>>>>>>> f9524a0a552a8bb4f67f22394dba79c504d62323
       " <span class=\"right\">\n",
       " </span>\n",
       " </div>\n",
       " </a>\n",
       " </div>, <div class=\"image_content\">\n",
<<<<<<< HEAD
       " <a alt=\"Dragon Ball Super: Broly\" class=\"result\" href=\"/movie/503314?language=en-US\" id=\"movie_503314\" title=\"Dragon Ball Super: Broly\">\n",
       " <img alt=\"Dragon Ball Super: Broly\" class=\"poster lazyload fade\" data-sizes=\"auto\" data-src=\"https://image.tmdb.org/t/p/w185_and_h278_bestv2/518jdIQHCZmYqIcNCaqbZuDRheV.jpg\" data-srcset=\"https://image.tmdb.org/t/p/w185_and_h278_bestv2/518jdIQHCZmYqIcNCaqbZuDRheV.jpg 1x, https://image.tmdb.org/t/p/w370_and_h556_bestv2/518jdIQHCZmYqIcNCaqbZuDRheV.jpg 2x\"/>\n",
       " <div class=\"meta\">\n",
       " <span class=\"hide popularity_rank_value\" id=\"popularity_5a78e7560e0a26598801b256_value\">\n",
       " <div class=\"tooltip_popup popularity\">\n",
       " <h3>Popularity Rank</h3>\n",
       " <p><span>Today:</span> 10</p>\n",
       " <p><span>Last Week:</span> 20</p>\n",
       " </div>\n",
       " </span>\n",
       " <span class=\"glyphicons glyphicons-cardio x1 popularity_rank\" id=\"popularity_5a78e7560e0a26598801b256\"></span>\n",
=======
       " <a alt=\"Mortal Engines\" class=\"result\" href=\"/movie/428078?language=en-US\" id=\"movie_428078\" title=\"Mortal Engines\">\n",
       " <img alt=\"Mortal Engines\" class=\"poster lazyload fade\" data-sizes=\"auto\" data-src=\"https://image.tmdb.org/t/p/w185_and_h278_bestv2/uXJVpPXxZO4L8Rz3IG1Y8XvZJcg.jpg\" data-srcset=\"https://image.tmdb.org/t/p/w185_and_h278_bestv2/uXJVpPXxZO4L8Rz3IG1Y8XvZJcg.jpg 1x, https://image.tmdb.org/t/p/w370_and_h556_bestv2/uXJVpPXxZO4L8Rz3IG1Y8XvZJcg.jpg 2x\"/>\n",
       " <div class=\"meta\">\n",
       " <span class=\"hide popularity_rank_value\" id=\"popularity_583c195992514124d9007f97_value\">\n",
       " <div class=\"tooltip_popup popularity\">\n",
       " <h3>Popularity Rank</h3>\n",
       " <p><span>Today:</span> 10</p>\n",
       " <p><span>Last Week:</span> 7</p>\n",
       " </div>\n",
       " </span>\n",
       " <span class=\"glyphicons glyphicons-cardio x1 popularity_rank\" id=\"popularity_583c195992514124d9007f97\"></span>\n",
>>>>>>> f9524a0a552a8bb4f67f22394dba79c504d62323
       " <span class=\"right\">\n",
       " </span>\n",
       " </div>\n",
       " </a>\n",
       " </div>, <div class=\"image_content\">\n",
<<<<<<< HEAD
       " <a alt=\"Ralph Breaks the Internet\" class=\"result\" href=\"/movie/404368?language=en-US\" id=\"movie_404368\" title=\"Ralph Breaks the Internet\">\n",
       " <img alt=\"Ralph Breaks the Internet\" class=\"poster lazyload fade\" data-sizes=\"auto\" data-src=\"https://image.tmdb.org/t/p/w185_and_h278_bestv2/lvfIaThG5HA8THf76nghKinjjji.jpg\" data-srcset=\"https://image.tmdb.org/t/p/w185_and_h278_bestv2/lvfIaThG5HA8THf76nghKinjjji.jpg 1x, https://image.tmdb.org/t/p/w370_and_h556_bestv2/lvfIaThG5HA8THf76nghKinjjji.jpg 2x\"/>\n",
       " <div class=\"meta\">\n",
       " <span class=\"hide popularity_rank_value\" id=\"popularity_57755d79c3a368169400032d_value\">\n",
       " <div class=\"tooltip_popup popularity\">\n",
       " <h3>Popularity Rank</h3>\n",
       " <p><span>Today:</span> 11</p>\n",
       " <p><span>Last Week:</span> 7</p>\n",
       " </div>\n",
       " </span>\n",
       " <span class=\"glyphicons glyphicons-cardio x1 popularity_rank\" id=\"popularity_57755d79c3a368169400032d\"></span>\n",
=======
       " <a alt=\"The Predator\" class=\"result\" href=\"/movie/346910?language=en-US\" id=\"movie_346910\" title=\"The Predator\">\n",
       " <img alt=\"The Predator\" class=\"poster lazyload fade\" data-sizes=\"auto\" data-src=\"https://image.tmdb.org/t/p/w185_and_h278_bestv2/wMq9kQXTeQCHUZOG4fAe5cAxyUA.jpg\" data-srcset=\"https://image.tmdb.org/t/p/w185_and_h278_bestv2/wMq9kQXTeQCHUZOG4fAe5cAxyUA.jpg 1x, https://image.tmdb.org/t/p/w370_and_h556_bestv2/wMq9kQXTeQCHUZOG4fAe5cAxyUA.jpg 2x\"/>\n",
       " <div class=\"meta\">\n",
       " <span class=\"hide popularity_rank_value\" id=\"popularity_5592cceac3a3687741001810_value\">\n",
       " <div class=\"tooltip_popup popularity\">\n",
       " <h3>Popularity Rank</h3>\n",
       " <p><span>Today:</span> 11</p>\n",
       " <p><span>Last Week:</span> 11</p>\n",
       " </div>\n",
       " </span>\n",
       " <span class=\"glyphicons glyphicons-cardio x1 popularity_rank\" id=\"popularity_5592cceac3a3687741001810\"></span>\n",
>>>>>>> f9524a0a552a8bb4f67f22394dba79c504d62323
       " <span class=\"right\">\n",
       " </span>\n",
       " </div>\n",
       " </a>\n",
       " </div>, <div class=\"image_content\">\n",
<<<<<<< HEAD
       " <a alt=\"T-34\" class=\"result\" href=\"/movie/505954?language=en-US\" id=\"movie_505954\" title=\"T-34\">\n",
       " <img alt=\"T-34\" class=\"poster lazyload fade\" data-sizes=\"auto\" data-src=\"https://image.tmdb.org/t/p/w185_and_h278_bestv2/qNBjbjpQC2Rm8M1v0X8jQxb4AnN.jpg\" data-srcset=\"https://image.tmdb.org/t/p/w185_and_h278_bestv2/qNBjbjpQC2Rm8M1v0X8jQxb4AnN.jpg 1x, https://image.tmdb.org/t/p/w370_and_h556_bestv2/qNBjbjpQC2Rm8M1v0X8jQxb4AnN.jpg 2x\"/>\n",
       " <div class=\"meta\">\n",
       " <span class=\"hide popularity_rank_value\" id=\"popularity_5a897680c3a3686316068500_value\">\n",
       " <div class=\"tooltip_popup popularity\">\n",
       " <h3>Popularity Rank</h3>\n",
       " <p><span>Today:</span> 13</p>\n",
       " <p><span>Last Week:</span> 14</p>\n",
       " </div>\n",
       " </span>\n",
       " <span class=\"glyphicons glyphicons-cardio x1 popularity_rank\" id=\"popularity_5a897680c3a3686316068500\"></span>\n",
=======
       " <a alt=\"Halloween\" class=\"result\" href=\"/movie/424139?language=en-US\" id=\"movie_424139\" title=\"Halloween\">\n",
       " <img alt=\"Halloween\" class=\"poster lazyload fade\" data-sizes=\"auto\" data-src=\"https://image.tmdb.org/t/p/w185_and_h278_bestv2/bXs0zkv2iGVViZEy78teg2ycDBm.jpg\" data-srcset=\"https://image.tmdb.org/t/p/w185_and_h278_bestv2/bXs0zkv2iGVViZEy78teg2ycDBm.jpg 1x, https://image.tmdb.org/t/p/w370_and_h556_bestv2/bXs0zkv2iGVViZEy78teg2ycDBm.jpg 2x\"/>\n",
       " <div class=\"meta\">\n",
       " <span class=\"hide popularity_rank_value\" id=\"popularity_581ad3d09251412d250009bc_value\">\n",
       " <div class=\"tooltip_popup popularity\">\n",
       " <h3>Popularity Rank</h3>\n",
       " <p><span>Today:</span> 12</p>\n",
       " <p><span>Last Week:</span> 43</p>\n",
       " </div>\n",
       " </span>\n",
       " <span class=\"glyphicons glyphicons-cardio x1 popularity_rank\" id=\"popularity_581ad3d09251412d250009bc\"></span>\n",
>>>>>>> f9524a0a552a8bb4f67f22394dba79c504d62323
       " <span class=\"right\">\n",
       " </span>\n",
       " </div>\n",
       " </a>\n",
       " </div>, <div class=\"image_content\">\n",
<<<<<<< HEAD
       " <a alt=\"Bohemian Rhapsody\" class=\"result\" href=\"/movie/424694?language=en-US\" id=\"movie_424694\" title=\"Bohemian Rhapsody\">\n",
       " <img alt=\"Bohemian Rhapsody\" class=\"poster lazyload fade\" data-sizes=\"auto\" data-src=\"https://image.tmdb.org/t/p/w185_and_h278_bestv2/lHu1wtNaczFPGFDTrjCSzeLPTKN.jpg\" data-srcset=\"https://image.tmdb.org/t/p/w185_and_h278_bestv2/lHu1wtNaczFPGFDTrjCSzeLPTKN.jpg 1x, https://image.tmdb.org/t/p/w370_and_h556_bestv2/lHu1wtNaczFPGFDTrjCSzeLPTKN.jpg 2x\"/>\n",
       " <div class=\"meta\">\n",
       " <span class=\"hide popularity_rank_value\" id=\"popularity_581f2671c3a36860b9004550_value\">\n",
       " <div class=\"tooltip_popup popularity\">\n",
       " <h3>Popularity Rank</h3>\n",
       " <p><span>Today:</span> 14</p>\n",
       " <p><span>Last Week:</span> 22</p>\n",
       " </div>\n",
       " </span>\n",
       " <span class=\"glyphicons glyphicons-cardio x1 popularity_rank\" id=\"popularity_581f2671c3a36860b9004550\"></span>\n",
=======
       " <a alt=\"Avengers: Infinity War\" class=\"result\" href=\"/movie/299536?language=en-US\" id=\"movie_299536\" title=\"Avengers: Infinity War\">\n",
       " <img alt=\"Avengers: Infinity War\" class=\"poster lazyload fade\" data-sizes=\"auto\" data-src=\"https://image.tmdb.org/t/p/w185_and_h278_bestv2/7WsyChQLEftFiDOVTGkv3hFpyyt.jpg\" data-srcset=\"https://image.tmdb.org/t/p/w185_and_h278_bestv2/7WsyChQLEftFiDOVTGkv3hFpyyt.jpg 1x, https://image.tmdb.org/t/p/w370_and_h556_bestv2/7WsyChQLEftFiDOVTGkv3hFpyyt.jpg 2x\"/>\n",
       " <div class=\"meta\">\n",
       " <span class=\"hide popularity_rank_value\" id=\"popularity_544fe91dc3a368022a00270a_value\">\n",
       " <div class=\"tooltip_popup popularity\">\n",
       " <h3>Popularity Rank</h3>\n",
       " <p><span>Today:</span> 13</p>\n",
       " <p><span>Last Week:</span> 14</p>\n",
       " </div>\n",
       " </span>\n",
       " <span class=\"glyphicons glyphicons-cardio x1 popularity_rank\" id=\"popularity_544fe91dc3a368022a00270a\"></span>\n",
>>>>>>> f9524a0a552a8bb4f67f22394dba79c504d62323
       " <span class=\"right\">\n",
       " </span>\n",
       " </div>\n",
       " </a>\n",
       " </div>, <div class=\"image_content\">\n",
<<<<<<< HEAD
       " <a alt=\"Silukkuvarupatti Singam\" class=\"result\" href=\"/movie/461693?language=en-US\" id=\"movie_461693\" title=\"Silukkuvarupatti Singam\">\n",
       " <img alt=\"Silukkuvarupatti Singam\" class=\"poster lazyload fade\" data-sizes=\"auto\" data-src=\"https://image.tmdb.org/t/p/w185_and_h278_bestv2/iIPbuINYWjvRZhXVrA5TDcKDuCy.jpg\" data-srcset=\"https://image.tmdb.org/t/p/w185_and_h278_bestv2/iIPbuINYWjvRZhXVrA5TDcKDuCy.jpg 1x, https://image.tmdb.org/t/p/w370_and_h556_bestv2/iIPbuINYWjvRZhXVrA5TDcKDuCy.jpg 2x\"/>\n",
       " <div class=\"meta\">\n",
       " <span class=\"hide popularity_rank_value\" id=\"popularity_593fe815c3a368040a00e083_value\">\n",
       " <div class=\"tooltip_popup popularity\">\n",
       " <h3>Popularity Rank</h3>\n",
       " <p><span>Today:</span> 15</p>\n",
       " <p><span>Last Week:</span> 57</p>\n",
       " </div>\n",
       " </span>\n",
       " <span class=\"glyphicons glyphicons-cardio x1 popularity_rank\" id=\"popularity_593fe815c3a368040a00e083\"></span>\n",
=======
       " <a alt=\"Bird Box\" class=\"result\" href=\"/movie/405774?language=en-US\" id=\"movie_405774\" title=\"Bird Box\">\n",
       " <img alt=\"Bird Box\" class=\"poster lazyload fade\" data-sizes=\"auto\" data-src=\"https://image.tmdb.org/t/p/w185_and_h278_bestv2/rGfGfgL2pEPCfhIvqHXieXFn7gp.jpg\" data-srcset=\"https://image.tmdb.org/t/p/w185_and_h278_bestv2/rGfGfgL2pEPCfhIvqHXieXFn7gp.jpg 1x, https://image.tmdb.org/t/p/w370_and_h556_bestv2/rGfGfgL2pEPCfhIvqHXieXFn7gp.jpg 2x\"/>\n",
       " <div class=\"meta\">\n",
       " <span class=\"hide popularity_rank_value\" id=\"popularity_57827b3cc3a36826c9000f3c_value\">\n",
       " <div class=\"tooltip_popup popularity\">\n",
       " <h3>Popularity Rank</h3>\n",
       " <p><span>Today:</span> 14</p>\n",
       " <p><span>Last Week:</span> 624</p>\n",
       " </div>\n",
       " </span>\n",
       " <span class=\"glyphicons glyphicons-cardio x1 popularity_rank\" id=\"popularity_57827b3cc3a36826c9000f3c\"></span>\n",
>>>>>>> f9524a0a552a8bb4f67f22394dba79c504d62323
       " <span class=\"right\">\n",
       " </span>\n",
       " </div>\n",
       " </a>\n",
       " </div>, <div class=\"image_content\">\n",
<<<<<<< HEAD
       " <a alt=\"Avengers: Infinity War\" class=\"result\" href=\"/movie/299536?language=en-US\" id=\"movie_299536\" title=\"Avengers: Infinity War\">\n",
       " <img alt=\"Avengers: Infinity War\" class=\"poster lazyload fade\" data-sizes=\"auto\" data-src=\"https://image.tmdb.org/t/p/w185_and_h278_bestv2/7WsyChQLEftFiDOVTGkv3hFpyyt.jpg\" data-srcset=\"https://image.tmdb.org/t/p/w185_and_h278_bestv2/7WsyChQLEftFiDOVTGkv3hFpyyt.jpg 1x, https://image.tmdb.org/t/p/w370_and_h556_bestv2/7WsyChQLEftFiDOVTGkv3hFpyyt.jpg 2x\"/>\n",
       " <div class=\"meta\">\n",
       " <span class=\"hide popularity_rank_value\" id=\"popularity_544fe91dc3a368022a00270a_value\">\n",
       " <div class=\"tooltip_popup popularity\">\n",
       " <h3>Popularity Rank</h3>\n",
       " <p><span>Today:</span> 16</p>\n",
       " <p><span>Last Week:</span> 15</p>\n",
       " </div>\n",
       " </span>\n",
       " <span class=\"glyphicons glyphicons-cardio x1 popularity_rank\" id=\"popularity_544fe91dc3a368022a00270a\"></span>\n",
=======
       " <a alt=\"Night School\" class=\"result\" href=\"/movie/454293?language=en-US\" id=\"movie_454293\" title=\"Night School\">\n",
       " <img alt=\"Night School\" class=\"poster lazyload fade\" data-sizes=\"auto\" data-src=\"https://image.tmdb.org/t/p/w185_and_h278_bestv2/xjsJTVWZYxeP89fwH17rsVvhPAe.jpg\" data-srcset=\"https://image.tmdb.org/t/p/w185_and_h278_bestv2/xjsJTVWZYxeP89fwH17rsVvhPAe.jpg 1x, https://image.tmdb.org/t/p/w370_and_h556_bestv2/xjsJTVWZYxeP89fwH17rsVvhPAe.jpg 2x\"/>\n",
       " <div class=\"meta\">\n",
       " <span class=\"hide popularity_rank_value\" id=\"popularity_58fea11f92514107c6000eae_value\">\n",
       " <div class=\"tooltip_popup popularity\">\n",
       " <h3>Popularity Rank</h3>\n",
       " <p><span>Today:</span> 15</p>\n",
       " <p><span>Last Week:</span> 16</p>\n",
       " </div>\n",
       " </span>\n",
       " <span class=\"glyphicons glyphicons-cardio x1 popularity_rank\" id=\"popularity_58fea11f92514107c6000eae\"></span>\n",
>>>>>>> f9524a0a552a8bb4f67f22394dba79c504d62323
       " <span class=\"right\">\n",
       " </span>\n",
       " </div>\n",
       " </a>\n",
       " </div>, <div class=\"image_content\">\n",
<<<<<<< HEAD
       " <a alt=\"Robin Hood\" class=\"result\" href=\"/movie/375588?language=en-US\" id=\"movie_375588\" title=\"Robin Hood\">\n",
       " <img alt=\"Robin Hood\" class=\"poster lazyload fade\" data-sizes=\"auto\" data-src=\"https://image.tmdb.org/t/p/w185_and_h278_bestv2/AiRfixFcfTkNbn2A73qVJPlpkUo.jpg\" data-srcset=\"https://image.tmdb.org/t/p/w185_and_h278_bestv2/AiRfixFcfTkNbn2A73qVJPlpkUo.jpg 1x, https://image.tmdb.org/t/p/w370_and_h556_bestv2/AiRfixFcfTkNbn2A73qVJPlpkUo.jpg 2x\"/>\n",
       " <div class=\"meta\">\n",
       " <span class=\"hide popularity_rank_value\" id=\"popularity_56883c82c3a36860e90242d1_value\">\n",
       " <div class=\"tooltip_popup popularity\">\n",
       " <h3>Popularity Rank</h3>\n",
       " <p><span>Today:</span> 17</p>\n",
       " <p><span>Last Week:</span> 18</p>\n",
       " </div>\n",
       " </span>\n",
       " <span class=\"glyphicons glyphicons-cardio x1 popularity_rank\" id=\"popularity_56883c82c3a36860e90242d1\"></span>\n",
=======
       " <a alt=\"Bad Times at the El Royale\" class=\"result\" href=\"/movie/446021?language=en-US\" id=\"movie_446021\" title=\"Bad Times at the El Royale\">\n",
       " <img alt=\"Bad Times at the El Royale\" class=\"poster lazyload fade\" data-sizes=\"auto\" data-src=\"https://image.tmdb.org/t/p/w185_and_h278_bestv2/qExufIc4Rw0e4xdVZlhMdmEDGES.jpg\" data-srcset=\"https://image.tmdb.org/t/p/w185_and_h278_bestv2/qExufIc4Rw0e4xdVZlhMdmEDGES.jpg 1x, https://image.tmdb.org/t/p/w370_and_h556_bestv2/qExufIc4Rw0e4xdVZlhMdmEDGES.jpg 2x\"/>\n",
       " <div class=\"meta\">\n",
       " <span class=\"hide popularity_rank_value\" id=\"popularity_58c1af52925141732700d1f0_value\">\n",
       " <div class=\"tooltip_popup popularity\">\n",
       " <h3>Popularity Rank</h3>\n",
       " <p><span>Today:</span> 16</p>\n",
       " <p><span>Last Week:</span> 266</p>\n",
       " </div>\n",
       " </span>\n",
       " <span class=\"glyphicons glyphicons-cardio x1 popularity_rank\" id=\"popularity_58c1af52925141732700d1f0\"></span>\n",
>>>>>>> f9524a0a552a8bb4f67f22394dba79c504d62323
       " <span class=\"right\">\n",
       " </span>\n",
       " </div>\n",
       " </a>\n",
       " </div>, <div class=\"image_content\">\n",
<<<<<<< HEAD
       " <a alt=\"Fantastic Beasts: The Crimes of Grindelwald\" class=\"result\" href=\"/movie/338952?language=en-US\" id=\"movie_338952\" title=\"Fantastic Beasts: The Crimes of Grindelwald\">\n",
       " <img alt=\"Fantastic Beasts: The Crimes of Grindelwald\" class=\"poster lazyload fade\" data-sizes=\"auto\" data-src=\"https://image.tmdb.org/t/p/w185_and_h278_bestv2/kQKcbJ9uYkTQql2R8L4jTUz7l90.jpg\" data-srcset=\"https://image.tmdb.org/t/p/w185_and_h278_bestv2/kQKcbJ9uYkTQql2R8L4jTUz7l90.jpg 1x, https://image.tmdb.org/t/p/w370_and_h556_bestv2/kQKcbJ9uYkTQql2R8L4jTUz7l90.jpg 2x\"/>\n",
       " <div class=\"meta\">\n",
       " <span class=\"hide popularity_rank_value\" id=\"popularity_5549dac692514104c0001865_value\">\n",
       " <div class=\"tooltip_popup popularity\">\n",
       " <h3>Popularity Rank</h3>\n",
       " <p><span>Today:</span> 18</p>\n",
       " <p><span>Last Week:</span> 9</p>\n",
       " </div>\n",
       " </span>\n",
       " <span class=\"glyphicons glyphicons-cardio x1 popularity_rank\" id=\"popularity_5549dac692514104c0001865\"></span>\n",
=======
       " <a alt=\"A Simple Favor\" class=\"result\" href=\"/movie/484247?language=en-US\" id=\"movie_484247\" title=\"A Simple Favor\">\n",
       " <img alt=\"A Simple Favor\" class=\"poster lazyload fade\" data-sizes=\"auto\" data-src=\"https://image.tmdb.org/t/p/w185_and_h278_bestv2/aIYsjQM0piKc0ibPBCTWv3sqshj.jpg\" data-srcset=\"https://image.tmdb.org/t/p/w185_and_h278_bestv2/aIYsjQM0piKc0ibPBCTWv3sqshj.jpg 1x, https://image.tmdb.org/t/p/w370_and_h556_bestv2/aIYsjQM0piKc0ibPBCTWv3sqshj.jpg 2x\"/>\n",
       " <div class=\"meta\">\n",
       " <span class=\"hide popularity_rank_value\" id=\"popularity_59f708d09251414d57050cf5_value\">\n",
       " <div class=\"tooltip_popup popularity\">\n",
       " <h3>Popularity Rank</h3>\n",
       " <p><span>Today:</span> 17</p>\n",
       " <p><span>Last Week:</span> 18</p>\n",
       " </div>\n",
       " </span>\n",
       " <span class=\"glyphicons glyphicons-cardio x1 popularity_rank\" id=\"popularity_59f708d09251414d57050cf5\"></span>\n",
>>>>>>> f9524a0a552a8bb4f67f22394dba79c504d62323
       " <span class=\"right\">\n",
       " </span>\n",
       " </div>\n",
       " </a>\n",
       " </div>, <div class=\"image_content\">\n",
<<<<<<< HEAD
       " <a alt=\"Once Upon a Deadpool\" class=\"result\" href=\"/movie/567604?language=en-US\" id=\"movie_567604\" title=\"Once Upon a Deadpool\">\n",
       " <img alt=\"Once Upon a Deadpool\" class=\"poster lazyload fade\" data-sizes=\"auto\" data-src=\"https://image.tmdb.org/t/p/w185_and_h278_bestv2/5Ka49BWWyKMXr93YMbH5wLN7aAM.jpg\" data-srcset=\"https://image.tmdb.org/t/p/w185_and_h278_bestv2/5Ka49BWWyKMXr93YMbH5wLN7aAM.jpg 1x, https://image.tmdb.org/t/p/w370_and_h556_bestv2/5Ka49BWWyKMXr93YMbH5wLN7aAM.jpg 2x\"/>\n",
       " <div class=\"meta\">\n",
       " <span class=\"hide popularity_rank_value\" id=\"popularity_5c0df010c3a36825230b2229_value\">\n",
       " <div class=\"tooltip_popup popularity\">\n",
       " <h3>Popularity Rank</h3>\n",
       " <p><span>Today:</span> 19</p>\n",
       " <p><span>Last Week:</span> 59</p>\n",
       " </div>\n",
       " </span>\n",
       " <span class=\"glyphicons glyphicons-cardio x1 popularity_rank\" id=\"popularity_5c0df010c3a36825230b2229\"></span>\n",
=======
       " <a alt=\"Mission: Impossible - Fallout\" class=\"result\" href=\"/movie/353081?language=en-US\" id=\"movie_353081\" title=\"Mission: Impossible - Fallout\">\n",
       " <img alt=\"Mission: Impossible - Fallout\" class=\"poster lazyload fade\" data-sizes=\"auto\" data-src=\"https://image.tmdb.org/t/p/w185_and_h278_bestv2/AkJQpZp9WoNdj7pLYSj1L0RcMMN.jpg\" data-srcset=\"https://image.tmdb.org/t/p/w185_and_h278_bestv2/AkJQpZp9WoNdj7pLYSj1L0RcMMN.jpg 1x, https://image.tmdb.org/t/p/w370_and_h556_bestv2/AkJQpZp9WoNdj7pLYSj1L0RcMMN.jpg 2x\"/>\n",
       " <div class=\"meta\">\n",
       " <span class=\"hide popularity_rank_value\" id=\"popularity_55c1613b9251410d7b003345_value\">\n",
       " <div class=\"tooltip_popup popularity\">\n",
       " <h3>Popularity Rank</h3>\n",
       " <p><span>Today:</span> 18</p>\n",
       " <p><span>Last Week:</span> 13</p>\n",
       " </div>\n",
       " </span>\n",
       " <span class=\"glyphicons glyphicons-cardio x1 popularity_rank\" id=\"popularity_55c1613b9251410d7b003345\"></span>\n",
>>>>>>> f9524a0a552a8bb4f67f22394dba79c504d62323
       " <span class=\"right\">\n",
       " </span>\n",
       " </div>\n",
       " </a>\n",
       " </div>, <div class=\"image_content\">\n",
<<<<<<< HEAD
       " <a alt=\"Night School\" class=\"result\" href=\"/movie/454293?language=en-US\" id=\"movie_454293\" title=\"Night School\">\n",
       " <img alt=\"Night School\" class=\"poster lazyload fade\" data-sizes=\"auto\" data-src=\"https://image.tmdb.org/t/p/w185_and_h278_bestv2/uQVIQDc3foTPodZw0ie1Or0CXBn.jpg\" data-srcset=\"https://image.tmdb.org/t/p/w185_and_h278_bestv2/uQVIQDc3foTPodZw0ie1Or0CXBn.jpg 1x, https://image.tmdb.org/t/p/w370_and_h556_bestv2/uQVIQDc3foTPodZw0ie1Or0CXBn.jpg 2x\"/>\n",
       " <div class=\"meta\">\n",
       " <span class=\"hide popularity_rank_value\" id=\"popularity_58fea11f92514107c6000eae_value\">\n",
       " <div class=\"tooltip_popup popularity\">\n",
       " <h3>Popularity Rank</h3>\n",
       " <p><span>Today:</span> 20</p>\n",
       " <p><span>Last Week:</span> 17</p>\n",
       " </div>\n",
       " </span>\n",
       " <span class=\"glyphicons glyphicons-cardio x1 popularity_rank\" id=\"popularity_58fea11f92514107c6000eae\"></span>\n",
=======
       " <a alt=\"The Nun\" class=\"result\" href=\"/movie/439079?language=en-US\" id=\"movie_439079\" title=\"The Nun\">\n",
       " <img alt=\"The Nun\" class=\"poster lazyload fade\" data-sizes=\"auto\" data-src=\"https://image.tmdb.org/t/p/w185_and_h278_bestv2/sFC1ElvoKGdHJIWRpNB3xWJ9lJA.jpg\" data-srcset=\"https://image.tmdb.org/t/p/w185_and_h278_bestv2/sFC1ElvoKGdHJIWRpNB3xWJ9lJA.jpg 1x, https://image.tmdb.org/t/p/w370_and_h556_bestv2/sFC1ElvoKGdHJIWRpNB3xWJ9lJA.jpg 2x\"/>\n",
       " <div class=\"meta\">\n",
       " <span class=\"hide popularity_rank_value\" id=\"popularity_5894e4d89251412e0b000c4a_value\">\n",
       " <div class=\"tooltip_popup popularity\">\n",
       " <h3>Popularity Rank</h3>\n",
       " <p><span>Today:</span> 19</p>\n",
       " <p><span>Last Week:</span> 33</p>\n",
       " </div>\n",
       " </span>\n",
       " <span class=\"glyphicons glyphicons-cardio x1 popularity_rank\" id=\"popularity_5894e4d89251412e0b000c4a\"></span>\n",
>>>>>>> f9524a0a552a8bb4f67f22394dba79c504d62323
       " <span class=\"right\">\n",
       " </span>\n",
       " </div>\n",
       " </a>\n",
       " </div>, <div class=\"image_content\">\n",
<<<<<<< HEAD
       " <a alt=\"Johnny English Strikes Again\" class=\"result\" href=\"/movie/463272?language=en-US\" id=\"movie_463272\" title=\"Johnny English Strikes Again\">\n",
       " <img alt=\"Johnny English Strikes Again\" class=\"poster lazyload fade\" data-sizes=\"auto\" data-src=\"https://image.tmdb.org/t/p/w185_and_h278_bestv2/ryACHOzmRJiJEKjatbokudfkO74.jpg\" data-srcset=\"https://image.tmdb.org/t/p/w185_and_h278_bestv2/ryACHOzmRJiJEKjatbokudfkO74.jpg 1x, https://image.tmdb.org/t/p/w370_and_h556_bestv2/ryACHOzmRJiJEKjatbokudfkO74.jpg 2x\"/>\n",
       " <div class=\"meta\">\n",
       " <span class=\"hide popularity_rank_value\" id=\"popularity_594f0423c3a3683265046181_value\">\n",
       " <div class=\"tooltip_popup popularity\">\n",
       " <h3>Popularity Rank</h3>\n",
       " <p><span>Today:</span> 21</p>\n",
       " <p><span>Last Week:</span> 28</p>\n",
       " </div>\n",
       " </span>\n",
       " <span class=\"glyphicons glyphicons-cardio x1 popularity_rank\" id=\"popularity_594f0423c3a3683265046181\"></span>\n",
=======
       " <a alt=\"Bohemian Rhapsody\" class=\"result\" href=\"/movie/424694?language=en-US\" id=\"movie_424694\" title=\"Bohemian Rhapsody\">\n",
       " <img alt=\"Bohemian Rhapsody\" class=\"poster lazyload fade\" data-sizes=\"auto\" data-src=\"https://image.tmdb.org/t/p/w185_and_h278_bestv2/lHu1wtNaczFPGFDTrjCSzeLPTKN.jpg\" data-srcset=\"https://image.tmdb.org/t/p/w185_and_h278_bestv2/lHu1wtNaczFPGFDTrjCSzeLPTKN.jpg 1x, https://image.tmdb.org/t/p/w370_and_h556_bestv2/lHu1wtNaczFPGFDTrjCSzeLPTKN.jpg 2x\"/>\n",
       " <div class=\"meta\">\n",
       " <span class=\"hide popularity_rank_value\" id=\"popularity_581f2671c3a36860b9004550_value\">\n",
       " <div class=\"tooltip_popup popularity\">\n",
       " <h3>Popularity Rank</h3>\n",
       " <p><span>Today:</span> 20</p>\n",
       " <p><span>Last Week:</span> 19</p>\n",
       " </div>\n",
       " </span>\n",
       " <span class=\"glyphicons glyphicons-cardio x1 popularity_rank\" id=\"popularity_581f2671c3a36860b9004550\"></span>\n",
>>>>>>> f9524a0a552a8bb4f67f22394dba79c504d62323
       " <span class=\"right\">\n",
       " </span>\n",
       " </div>\n",
       " </a>\n",
       " </div>]"
      ]
     },
<<<<<<< HEAD
     "execution_count": 7,
=======
     "execution_count": 41,
>>>>>>> f9524a0a552a8bb4f67f22394dba79c504d62323
     "metadata": {},
     "output_type": "execute_result"
    }
   ],
   "source": [
    "output = soup.select('.image_content')\n",
    "output"
   ]
  },
  {
   "cell_type": "code",
<<<<<<< HEAD
   "execution_count": 9,
=======
   "execution_count": 25,
>>>>>>> f9524a0a552a8bb4f67f22394dba79c504d62323
   "metadata": {},
   "outputs": [
    {
     "data": {
      "text/plain": [
       "{'class': ['poster', 'lazyload', 'fade'],\n",
       " 'data-sizes': 'auto',\n",
<<<<<<< HEAD
       " 'data-src': 'https://image.tmdb.org/t/p/w185_and_h278_bestv2/5Kg76ldv7VxeX9YlcQXiowHgdX6.jpg',\n",
       " 'data-srcset': 'https://image.tmdb.org/t/p/w185_and_h278_bestv2/5Kg76ldv7VxeX9YlcQXiowHgdX6.jpg 1x, https://image.tmdb.org/t/p/w370_and_h556_bestv2/5Kg76ldv7VxeX9YlcQXiowHgdX6.jpg 2x',\n",
       " 'alt': 'Aquaman'}"
      ]
     },
     "execution_count": 9,
=======
       " 'data-src': 'https://image.tmdb.org/t/p/w185_and_h278_bestv2/i2dF9UxOeb77CAJrOflj0RpqJRF.jpg',\n",
       " 'data-srcset': 'https://image.tmdb.org/t/p/w185_and_h278_bestv2/i2dF9UxOeb77CAJrOflj0RpqJRF.jpg 1x, https://image.tmdb.org/t/p/w370_and_h556_bestv2/i2dF9UxOeb77CAJrOflj0RpqJRF.jpg 2x',\n",
       " 'alt': 'Aquaman'}"
      ]
     },
     "execution_count": 25,
>>>>>>> f9524a0a552a8bb4f67f22394dba79c504d62323
     "metadata": {},
     "output_type": "execute_result"
    }
   ],
   "source": [
    "output[0].find(\"img\").attrs"
   ]
  },
  {
   "cell_type": "code",
<<<<<<< HEAD
   "execution_count": 10,
=======
   "execution_count": 26,
>>>>>>> f9524a0a552a8bb4f67f22394dba79c504d62323
   "metadata": {},
   "outputs": [],
   "source": [
    "name = output[0].find(\"img\").attrs['alt']\n",
    "posterUrl = output[0].find(\"img\").attrs['data-src']"
   ]
  },
  {
   "cell_type": "code",
<<<<<<< HEAD
   "execution_count": 13,
=======
   "execution_count": 29,
>>>>>>> f9524a0a552a8bb4f67f22394dba79c504d62323
   "metadata": {},
   "outputs": [],
   "source": [
    "eg = output[0]"
   ]
  },
  {
   "cell_type": "code",
<<<<<<< HEAD
   "execution_count": 14,
=======
   "execution_count": 31,
>>>>>>> f9524a0a552a8bb4f67f22394dba79c504d62323
   "metadata": {},
   "outputs": [
    {
     "data": {
      "text/plain": [
<<<<<<< HEAD
       "<div class=\"image_content\">\n",
       "<a alt=\"Aquaman\" class=\"result\" href=\"/movie/297802?language=en-US\" id=\"movie_297802\" title=\"Aquaman\">\n",
       "<img alt=\"Aquaman\" class=\"poster lazyload fade\" data-sizes=\"auto\" data-src=\"https://image.tmdb.org/t/p/w185_and_h278_bestv2/5Kg76ldv7VxeX9YlcQXiowHgdX6.jpg\" data-srcset=\"https://image.tmdb.org/t/p/w185_and_h278_bestv2/5Kg76ldv7VxeX9YlcQXiowHgdX6.jpg 1x, https://image.tmdb.org/t/p/w370_and_h556_bestv2/5Kg76ldv7VxeX9YlcQXiowHgdX6.jpg 2x\"/>\n",
       "<div class=\"meta\">\n",
       "<span class=\"hide popularity_rank_value\" id=\"popularity_5440274e0e0a260269000626_value\">\n",
       "<div class=\"tooltip_popup popularity\">\n",
       "<h3>Popularity Rank</h3>\n",
       "<p><span>Today:</span> 1</p>\n",
       "<p><span>Last Week:</span> 1</p>\n",
       "</div>\n",
       "</span>\n",
       "<span class=\"glyphicons glyphicons-cardio x1 popularity_rank\" id=\"popularity_5440274e0e0a260269000626\"></span>\n",
       "<span class=\"right\">\n",
       "</span>\n",
       "</div>\n",
       "</a>\n",
       "</div>"
      ]
     },
     "execution_count": 14,
     "metadata": {},
     "output_type": "execute_result"
    }
   ],
   "source": [
    "eg"
   ]
  },
  {
   "cell_type": "code",
   "execution_count": 15,
   "metadata": {},
   "outputs": [
    {
     "data": {
      "text/plain": [
       "{'Aquaman': 'https://image.tmdb.org/t/p/w185_and_h278_bestv2/5Kg76ldv7VxeX9YlcQXiowHgdX6.jpg'}"
      ]
     },
     "execution_count": 15,
=======
       "{'Aquaman': 'https://image.tmdb.org/t/p/w185_and_h278_bestv2/i2dF9UxOeb77CAJrOflj0RpqJRF.jpg'}"
      ]
     },
     "execution_count": 31,
>>>>>>> f9524a0a552a8bb4f67f22394dba79c504d62323
     "metadata": {},
     "output_type": "execute_result"
    }
   ],
   "source": [
    "def find_info(html):\n",
    "    namePart = html.find(\"img\").attrs['alt']\n",
    "    score = html.find(\"img\").attrs['data-src']\n",
    "    return {namePart:score}\n",
    "\n",
    "find_info(eg)"
   ]
  },
  {
   "cell_type": "code",
<<<<<<< HEAD
   "execution_count": 12,
   "metadata": {},
   "outputs": [
    {
     "data": {
      "text/plain": [
       "<div class=\"image_content\">\n",
       "<a alt=\"Aquaman\" class=\"result\" href=\"/movie/297802?language=en-US\" id=\"movie_297802\" title=\"Aquaman\">\n",
       "<img alt=\"Aquaman\" class=\"poster lazyload fade\" data-sizes=\"auto\" data-src=\"https://image.tmdb.org/t/p/w185_and_h278_bestv2/5Kg76ldv7VxeX9YlcQXiowHgdX6.jpg\" data-srcset=\"https://image.tmdb.org/t/p/w185_and_h278_bestv2/5Kg76ldv7VxeX9YlcQXiowHgdX6.jpg 1x, https://image.tmdb.org/t/p/w370_and_h556_bestv2/5Kg76ldv7VxeX9YlcQXiowHgdX6.jpg 2x\"/>\n",
       "<div class=\"meta\">\n",
       "<span class=\"hide popularity_rank_value\" id=\"popularity_5440274e0e0a260269000626_value\">\n",
       "<div class=\"tooltip_popup popularity\">\n",
       "<h3>Popularity Rank</h3>\n",
       "<p><span>Today:</span> 1</p>\n",
       "<p><span>Last Week:</span> 1</p>\n",
       "</div>\n",
       "</span>\n",
       "<span class=\"glyphicons glyphicons-cardio x1 popularity_rank\" id=\"popularity_5440274e0e0a260269000626\"></span>\n",
       "<span class=\"right\">\n",
       "</span>\n",
       "</div>\n",
       "</a>\n",
       "</div>"
      ]
     },
     "execution_count": 12,
     "metadata": {},
     "output_type": "execute_result"
    }
   ],
   "source": [
    "eg"
   ]
  },
  {
   "cell_type": "code",
   "execution_count": 16,
=======
   "execution_count": 42,
>>>>>>> f9524a0a552a8bb4f67f22394dba79c504d62323
   "metadata": {},
   "outputs": [
    {
     "name": "stdout",
     "output_type": "stream",
     "text": [
<<<<<<< HEAD
      "{'Aquaman': 'https://image.tmdb.org/t/p/w185_and_h278_bestv2/5Kg76ldv7VxeX9YlcQXiowHgdX6.jpg'}\n",
      "{'Bumblebee': 'https://image.tmdb.org/t/p/w185_and_h278_bestv2/fw02ONlDhrYjTSZV8XO6hhU3ds3.jpg'}\n",
      "{'Mary Poppins Returns': 'https://image.tmdb.org/t/p/w185_and_h278_bestv2/uTVGku4LibMGyKgQvjBtv3OYfAX.jpg'}\n",
      "{'The Mule': 'https://image.tmdb.org/t/p/w185_and_h278_bestv2/t0idiLMalKMj2pLsvqHrOM4LPdQ.jpg'}\n",
      "{'Spider-Man: Into the Spider-Verse': 'https://image.tmdb.org/t/p/w185_and_h278_bestv2/laMM4lpQSh5z6KIBPwWogkjzBVQ.jpg'}\n",
      "{'Creed II': 'https://image.tmdb.org/t/p/w185_and_h278_bestv2/v3QyboWRoA4O9RbcsqH8tJMe8EB.jpg'}\n",
      "{'Venom': 'https://image.tmdb.org/t/p/w185_and_h278_bestv2/2uNW4WbgBXL25BAbXGLnLqX71Sw.jpg'}\n",
      "{'Bird Box': 'https://image.tmdb.org/t/p/w185_and_h278_bestv2/rGfGfgL2pEPCfhIvqHXieXFn7gp.jpg'}\n",
      "{'Vice': 'https://image.tmdb.org/t/p/w185_and_h278_bestv2/e0NZxqQ4B8YZ6kRrZish2DPqtdi.jpg'}\n",
      "{'Dragon Ball Super: Broly': 'https://image.tmdb.org/t/p/w185_and_h278_bestv2/518jdIQHCZmYqIcNCaqbZuDRheV.jpg'}\n",
      "{'Ralph Breaks the Internet': 'https://image.tmdb.org/t/p/w185_and_h278_bestv2/lvfIaThG5HA8THf76nghKinjjji.jpg'}\n",
      "{'T-34': 'https://image.tmdb.org/t/p/w185_and_h278_bestv2/qNBjbjpQC2Rm8M1v0X8jQxb4AnN.jpg'}\n",
      "{'Bohemian Rhapsody': 'https://image.tmdb.org/t/p/w185_and_h278_bestv2/lHu1wtNaczFPGFDTrjCSzeLPTKN.jpg'}\n",
      "{'Silukkuvarupatti Singam': 'https://image.tmdb.org/t/p/w185_and_h278_bestv2/iIPbuINYWjvRZhXVrA5TDcKDuCy.jpg'}\n",
      "{'Avengers: Infinity War': 'https://image.tmdb.org/t/p/w185_and_h278_bestv2/7WsyChQLEftFiDOVTGkv3hFpyyt.jpg'}\n",
      "{'Robin Hood': 'https://image.tmdb.org/t/p/w185_and_h278_bestv2/AiRfixFcfTkNbn2A73qVJPlpkUo.jpg'}\n",
      "{'Fantastic Beasts: The Crimes of Grindelwald': 'https://image.tmdb.org/t/p/w185_and_h278_bestv2/kQKcbJ9uYkTQql2R8L4jTUz7l90.jpg'}\n",
      "{'Once Upon a Deadpool': 'https://image.tmdb.org/t/p/w185_and_h278_bestv2/5Ka49BWWyKMXr93YMbH5wLN7aAM.jpg'}\n",
      "{'Night School': 'https://image.tmdb.org/t/p/w185_and_h278_bestv2/uQVIQDc3foTPodZw0ie1Or0CXBn.jpg'}\n",
      "{'Johnny English Strikes Again': 'https://image.tmdb.org/t/p/w185_and_h278_bestv2/ryACHOzmRJiJEKjatbokudfkO74.jpg'}\n"
=======
      "{'Aquaman': 'https://image.tmdb.org/t/p/w185_and_h278_bestv2/i2dF9UxOeb77CAJrOflj0RpqJRF.jpg'}\n",
      "{'Bumblebee': 'https://image.tmdb.org/t/p/w185_and_h278_bestv2/sG6n4ei1F0kVQtTs3fAjDghngpa.jpg'}\n",
      "{'Fantastic Beasts: The Crimes of Grindelwald': 'https://image.tmdb.org/t/p/w185_and_h278_bestv2/kQKcbJ9uYkTQql2R8L4jTUz7l90.jpg'}\n",
      "{'Venom': 'https://image.tmdb.org/t/p/w185_and_h278_bestv2/2uNW4WbgBXL25BAbXGLnLqX71Sw.jpg'}\n",
      "{'Creed II': 'https://image.tmdb.org/t/p/w185_and_h278_bestv2/v3QyboWRoA4O9RbcsqH8tJMe8EB.jpg'}\n",
      "{'Crayon Shin-chan: Burst Serving! Kung Fu Boys ~Ramen Rebellion~': 'https://image.tmdb.org/t/p/w185_and_h278_bestv2/beQxbz53wcBHG6TzevTHvs3Gz20.jpg'}\n",
      "{'Dragon Ball Super: Broly': 'https://image.tmdb.org/t/p/w185_and_h278_bestv2/518jdIQHCZmYqIcNCaqbZuDRheV.jpg'}\n",
      "{'Johnny English Strikes Again': 'https://image.tmdb.org/t/p/w185_and_h278_bestv2/tCBxnZwLiY1BOKw3tH6AxHZdqPh.jpg'}\n",
      "{'Spider-Man: Into the Spider-Verse': 'https://image.tmdb.org/t/p/w185_and_h278_bestv2/laMM4lpQSh5z6KIBPwWogkjzBVQ.jpg'}\n",
      "{'Mortal Engines': 'https://image.tmdb.org/t/p/w185_and_h278_bestv2/uXJVpPXxZO4L8Rz3IG1Y8XvZJcg.jpg'}\n",
      "{'The Predator': 'https://image.tmdb.org/t/p/w185_and_h278_bestv2/wMq9kQXTeQCHUZOG4fAe5cAxyUA.jpg'}\n",
      "{'Halloween': 'https://image.tmdb.org/t/p/w185_and_h278_bestv2/bXs0zkv2iGVViZEy78teg2ycDBm.jpg'}\n",
      "{'Avengers: Infinity War': 'https://image.tmdb.org/t/p/w185_and_h278_bestv2/7WsyChQLEftFiDOVTGkv3hFpyyt.jpg'}\n",
      "{'Bird Box': 'https://image.tmdb.org/t/p/w185_and_h278_bestv2/rGfGfgL2pEPCfhIvqHXieXFn7gp.jpg'}\n",
      "{'Night School': 'https://image.tmdb.org/t/p/w185_and_h278_bestv2/xjsJTVWZYxeP89fwH17rsVvhPAe.jpg'}\n",
      "{'Bad Times at the El Royale': 'https://image.tmdb.org/t/p/w185_and_h278_bestv2/qExufIc4Rw0e4xdVZlhMdmEDGES.jpg'}\n",
      "{'A Simple Favor': 'https://image.tmdb.org/t/p/w185_and_h278_bestv2/aIYsjQM0piKc0ibPBCTWv3sqshj.jpg'}\n",
      "{'Mission: Impossible - Fallout': 'https://image.tmdb.org/t/p/w185_and_h278_bestv2/AkJQpZp9WoNdj7pLYSj1L0RcMMN.jpg'}\n",
      "{'The Nun': 'https://image.tmdb.org/t/p/w185_and_h278_bestv2/sFC1ElvoKGdHJIWRpNB3xWJ9lJA.jpg'}\n",
      "{'Bohemian Rhapsody': 'https://image.tmdb.org/t/p/w185_and_h278_bestv2/lHu1wtNaczFPGFDTrjCSzeLPTKN.jpg'}\n"
>>>>>>> f9524a0a552a8bb4f67f22394dba79c504d62323
     ]
    }
   ],
   "source": [
    "for i in output:\n",
    "    print(find_info(i))"
   ]
  },
  {
   "cell_type": "code",
   "execution_count": 95,
   "metadata": {},
   "outputs": [
    {
     "data": {
      "text/plain": [
       "('TMDB_poster/Venom.jpg', <http.client.HTTPMessage at 0x10662e978>)"
      ]
     },
     "execution_count": 95,
     "metadata": {},
     "output_type": "execute_result"
    }
   ],
   "source": [
    "import urllib\n",
    "urllib.request.urlretrieve(path, \"TMDB_poster/{}.jpg\".format(name))"
   ]
  },
  {
   "cell_type": "code",
   "execution_count": null,
   "metadata": {},
   "outputs": [],
   "source": []
  }
 ],
 "metadata": {
  "kernelspec": {
   "display_name": "Python 3",
   "language": "python",
   "name": "python3"
  },
  "language_info": {
   "codemirror_mode": {
    "name": "ipython",
    "version": 3
   },
   "file_extension": ".py",
   "mimetype": "text/x-python",
   "name": "python",
   "nbconvert_exporter": "python",
   "pygments_lexer": "ipython3",
   "version": "3.6.5"
  }
 },
 "nbformat": 4,
 "nbformat_minor": 2
}
