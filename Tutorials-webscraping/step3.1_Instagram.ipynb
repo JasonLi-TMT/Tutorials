{
 "cells": [
  {
   "cell_type": "code",
   "execution_count": 1,
   "metadata": {},
   "outputs": [],
   "source": [
    "from bs4 import BeautifulSoup\n",
    "import requests\n",
    "from lxml import html\n",
    "\n",
    "from selenium import webdriver\n",
    "import os"
   ]
  },
  {
   "cell_type": "code",
   "execution_count": 2,
   "metadata": {},
   "outputs": [],
   "source": [
    "url = \"https://www.instagram.com\"\n",
    "\n",
    "# browser = webdriver.Chrome(executable_path=\"/Users/zili/Documents/projects/webscraping/chromedriver\",options=options)\n",
    "browser = webdriver.Chrome(executable_path=\"./chromedriver\")\n",
    "\n",
    "browser.get(url)"
   ]
  },
  {
   "cell_type": "markdown",
   "metadata": {},
   "source": [
    "# Find login button"
   ]
  },
  {
   "cell_type": "code",
   "execution_count": 4,
   "metadata": {},
   "outputs": [],
   "source": [
    "loginP = browser.find_element_by_css_selector('.izU2O')"
   ]
  },
  {
   "cell_type": "code",
   "execution_count": 5,
   "metadata": {},
   "outputs": [],
   "source": [
    "loginP.find_element_by_tag_name('a').click()"
   ]
  },
  {
   "cell_type": "code",
   "execution_count": 6,
   "metadata": {},
   "outputs": [],
   "source": [
    "username = browser.find_element_by_name(\"username\")\n",
    "password = browser.find_element_by_name(\"password\")"
   ]
  },
  {
   "cell_type": "code",
   "execution_count": 7,
   "metadata": {},
   "outputs": [],
   "source": [
    "username.send_keys(\"***\")\n",
    "password.send_keys(\"***\")"
   ]
  },
  {
   "cell_type": "code",
   "execution_count": 9,
   "metadata": {},
   "outputs": [],
   "source": [
    "browser.find_element_by_xpath('//button[text()=\"Log in\"]').click()\n"
   ]
  },
  {
   "cell_type": "code",
   "execution_count": 10,
   "metadata": {},
   "outputs": [],
   "source": [
    "browser.find_element_by_xpath('//button[text()=\"Not Now\"]').click()\n"
   ]
  },
  {
   "cell_type": "code",
   "execution_count": 11,
   "metadata": {},
   "outputs": [],
   "source": [
    "innerHtml = browser.page_source"
   ]
  },
  {
   "cell_type": "code",
   "execution_count": 12,
   "metadata": {},
   "outputs": [],
   "source": [
    "soup = BeautifulSoup(innerHtml,'lxml')"
   ]
  },
  {
   "cell_type": "code",
   "execution_count": 13,
   "metadata": {},
   "outputs": [
    {
     "data": {
      "text/plain": [
       "[<div class=\"C4VMK\"><h2 class=\"_6lAjh\"><a class=\"FPmhX notranslate TlrDj\" href=\"/maxma0809/\" title=\"maxma0809\">maxma0809</a></h2><span><span>Reunion~ </span><button class=\"sXUSN _0mzm- sqdOP yWX7d \" type=\"button\"> more</button></span></div>,\n",
       " <div class=\"C4VMK\"><h2 class=\"_6lAjh\"><a class=\"FPmhX notranslate TlrDj\" href=\"/zjgracie/\" title=\"zjgracie\">zjgracie</a></h2><span><span><a href=\"/explore/tags/reunion/\">#reunion</a> <a href=\"/explore/tags/bostoncollege/\">#bostoncollege</a> <a href=\"/explore/tags/merrychristmas/\">#merrychristmas</a></span></span></div>,\n",
       " <div class=\"C4VMK\"><h3 class=\"_6lAjh\"><a class=\"FPmhX notranslate TlrDj\" href=\"/maxma0809/\" title=\"maxma0809\">maxma0809</a></h3><span><span>吼吼吼，刚好连上vpn，抢个沙发</span></span></div>,\n",
       " <div class=\"C4VMK\"><h2 class=\"_6lAjh\"><a class=\"FPmhX notranslate TlrDj\" href=\"/willgeminix/\" title=\"willgeminix\">willgeminix</a></h2><span><span>unlock Shanghai Disney <a href=\"/explore/tags/disneylandshanghai/\">#disneylandshanghai</a> it has been a long day without u my friend🎈🎈</span></span></div>,\n",
       " <div class=\"C4VMK\"><h3 class=\"_6lAjh\"><a class=\"FPmhX notranslate TlrDj\" href=\"/fanding4727/\" title=\"fanding4727\">fanding4727</a></h3><span><span>喜欢喜欢~~</span></span></div>,\n",
       " <div class=\"C4VMK\"><h3 class=\"_6lAjh\"><a class=\"FPmhX notranslate TlrDj\" href=\"/willgeminix/\" title=\"willgeminix\">willgeminix</a></h3><span><span><a class=\"notranslate\" href=\"/fanding4727/\">@fanding4727</a> 等着你回来嘿😝😝😝</span></span></div>,\n",
       " <div class=\"C4VMK\"><h3 class=\"_6lAjh\"><a class=\"FPmhX notranslate TlrDj\" href=\"/fanding4727/\" title=\"fanding4727\">fanding4727</a></h3><span><span>好滴好滴！</span></span></div>,\n",
       " <div class=\"C4VMK\"><h3 class=\"_6lAjh\"><a class=\"FPmhX notranslate TlrDj\" href=\"/maxma0809/\" title=\"maxma0809\">maxma0809</a></h3><span><span>See you again</span></span></div>,\n",
       " <div class=\"C4VMK\"><h2 class=\"_6lAjh\"><a class=\"FPmhX notranslate TlrDj\" href=\"/caseyliukx/\" title=\"caseyliukx\">caseyliukx</a></h2><span><span>Winnie-the-Pooh exhibition</span></span></div>]"
      ]
     },
     "execution_count": 13,
     "metadata": {},
     "output_type": "execute_result"
    }
   ],
   "source": [
    "soup.select(\".C4VMK\")"
   ]
  },
  {
   "cell_type": "code",
   "execution_count": null,
   "metadata": {},
   "outputs": [],
   "source": []
  }
 ],
 "metadata": {
  "kernelspec": {
   "display_name": "Python 3",
   "language": "python",
   "name": "python3"
  },
  "language_info": {
   "codemirror_mode": {
    "name": "ipython",
    "version": 3
   },
   "file_extension": ".py",
   "mimetype": "text/x-python",
   "name": "python",
   "nbconvert_exporter": "python",
   "pygments_lexer": "ipython3",
   "version": "3.6.5"
  }
 },
 "nbformat": 4,
 "nbformat_minor": 2
}
