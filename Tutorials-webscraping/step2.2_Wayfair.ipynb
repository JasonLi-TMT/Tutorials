{
 "cells": [
  {
   "cell_type": "code",
   "execution_count": 1,
   "metadata": {},
   "outputs": [],
   "source": [
    "from bs4 import BeautifulSoup\n",
    "import requests\n",
    "from lxml import html\n",
    "\n",
    "from selenium import webdriver"
   ]
  },
  {
   "cell_type": "markdown",
   "metadata": {},
   "source": [
    "### 1 send you raw code: request.get\n",
    "### 2 webdriver(chrome) load js code\n",
    "### 3 see your website"
   ]
  },
  {
   "cell_type": "code",
   "execution_count": 2,
   "metadata": {},
   "outputs": [],
   "source": [
    "url = \"https://www.wayfair.com/rugs/cat/rugs-c215385.html\"\n",
    "\n",
    "page = requests.get(url)\n",
    "\n",
    "soup = BeautifulSoup(page.text,'lxml')"
   ]
  },
  {
   "cell_type": "code",
   "execution_count": 3,
   "metadata": {},
   "outputs": [
    {
     "data": {
      "text/plain": [
       "[]"
      ]
     },
     "execution_count": 3,
     "metadata": {},
     "output_type": "execute_result"
    }
   ],
   "source": [
    "soup.select(\".ProductCard-header\")"
   ]
  },
  {
   "cell_type": "markdown",
   "metadata": {},
   "source": [
    "# Solve the not loaded issue"
   ]
  },
  {
   "cell_type": "code",
   "execution_count": 4,
   "metadata": {},
   "outputs": [],
   "source": [
    "browser = webdriver.Chrome(executable_path=\"./chromedriver\")\n",
    "browser.get(url)"
   ]
  },
  {
   "cell_type": "code",
   "execution_count": 5,
   "metadata": {},
   "outputs": [],
   "source": [
    "noThanksButton = browser.find_element_by_css_selector(\"button.Button.Button--large.Button--primary.is-plainText\")\n",
    "noThanksButton.click()"
   ]
  },
  {
   "cell_type": "code",
   "execution_count": 6,
   "metadata": {},
   "outputs": [],
   "source": [
    "innerHTML2 = browser.page_source\n",
    "\n",
    "soup2 = BeautifulSoup(innerHTML2,'lxml')"
   ]
  },
  {
   "cell_type": "code",
   "execution_count": 7,
   "metadata": {},
   "outputs": [],
   "source": [
    "productList = soup2.select(\".ProductCard-name\")"
   ]
  },
  {
   "cell_type": "code",
   "execution_count": 8,
   "metadata": {},
   "outputs": [
    {
     "data": {
      "text/plain": [
       "[]"
      ]
     },
     "execution_count": 8,
     "metadata": {},
     "output_type": "execute_result"
    }
   ],
   "source": [
    "productList"
   ]
  },
  {
   "cell_type": "code",
   "execution_count": 16,
   "metadata": {},
   "outputs": [
    {
     "data": {
      "text/plain": [
       "<div class=\"ProductCard-details\"><div class=\"ProductCard-options ProductCard-options--sticky\"><span class=\"ProductCard-moreOptions\">More Options</span></div><div class=\"ProductCard-header\"><h2 class=\"ProductCard-name\">Clair Gray Area Rug</h2><p class=\"ProductCard-manufacturer\" data-codeception-id=\"ProductCard-manufacturer\">By Mistana</p></div><div class=\"ProductCard-pricing\"><span class=\"ProductCard-price ProductCard-price--sale\">$27.99 - $384.99</span></div><div class=\"ProductCard-reviews\"><div class=\"pl-ReviewStars\" data-hb-id=\"pl_review_stars\"><div class=\"pl-ReviewStars-stars\"><svg aria-hidden=\"true\" class=\"u-icon pl-ReviewStars-scale\" data-hb-id=\"pl_icon\" xmlns=\"http://www.w3.org/2000/svg\"><use xlink:href=\"#wf-icon-review-stars\" xmlns:xlink=\"http://www.w3.org/1999/xlink\"></use></svg><div class=\"pl-ReviewStars-rating\" style=\"width: 100.4%;\"><svg aria-hidden=\"true\" class=\"u-icon pl-ReviewStars-scale is-filled\" data-hb-id=\"pl_icon\" xmlns=\"http://www.w3.org/2000/svg\"><use xlink:href=\"#wf-icon-review-stars\" xmlns:xlink=\"http://www.w3.org/1999/xlink\"></use></svg></div></div> <p aria-hidden=\"true\" class=\"pl-ReviewStars-reviews\">16418</p><p class=\"pl-VisuallyHidden\">Rated 5 out of 5 stars.16418 total votes.</p></div></div></div>"
      ]
     },
     "execution_count": 16,
     "metadata": {},
     "output_type": "execute_result"
    }
   ],
   "source": [
    "productList[0]"
   ]
  }
 ],
 "metadata": {
  "kernelspec": {
   "display_name": "Python 3",
   "language": "python",
   "name": "python3"
  },
  "language_info": {
   "codemirror_mode": {
    "name": "ipython",
    "version": 3
   },
   "file_extension": ".py",
   "mimetype": "text/x-python",
   "name": "python",
   "nbconvert_exporter": "python",
   "pygments_lexer": "ipython3",
   "version": "3.6.5"
  }
 },
 "nbformat": 4,
 "nbformat_minor": 2
}
