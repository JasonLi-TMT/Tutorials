{
 "cells": [
  {
   "cell_type": "code",
   "execution_count": 1,
   "metadata": {},
   "outputs": [],
   "source": [
    "from bs4 import BeautifulSoup\n",
    "import requests\n",
    "from lxml import html\n",
    "\n",
    "from selenium import webdriver"
   ]
  },
  {
   "cell_type": "markdown",
   "metadata": {},
   "source": [
    "### 1 send you raw code: request.get\n",
    "### 2 webdriver(chrome) load js code\n",
    "### 3 see your website"
   ]
  },
  {
   "cell_type": "code",
   "execution_count": 2,
   "metadata": {},
   "outputs": [],
   "source": [
    "url = \"https://www.wayfair.com/rugs/cat/rugs-c215385.html\"\n",
    "\n",
    "page = requests.get(url)\n",
    "\n",
    "soup = BeautifulSoup(page.text,'lxml')"
   ]
  },
  {
   "cell_type": "code",
   "execution_count": 3,
   "metadata": {},
   "outputs": [
    {
     "data": {
      "text/plain": [
       "[]"
      ]
     },
     "execution_count": 3,
     "metadata": {},
     "output_type": "execute_result"
    }
   ],
   "source": [
<<<<<<< HEAD
    "soup.select(\".ProductCard-shipping\")"
=======
    "soup.select(\".ProductCard-header\")"
>>>>>>> f9524a0a552a8bb4f67f22394dba79c504d62323
   ]
  },
  {
   "cell_type": "markdown",
   "metadata": {},
   "source": [
    "# Solve the not loaded issue"
   ]
  },
  {
   "cell_type": "code",
   "execution_count": 4,
   "metadata": {},
   "outputs": [],
   "source": [
    "browser = webdriver.Chrome(executable_path=\"./chromedriver\")\n",
    "browser.get(url)"
   ]
  },
  {
   "cell_type": "code",
   "execution_count": 5,
   "metadata": {},
   "outputs": [],
   "source": [
<<<<<<< HEAD
    "### Button Button--large Button--primary is-plainText\n",
=======
>>>>>>> f9524a0a552a8bb4f67f22394dba79c504d62323
    "noThanksButton = browser.find_element_by_css_selector(\"button.Button.Button--large.Button--primary.is-plainText\")\n",
    "noThanksButton.click()"
   ]
  },
  {
   "cell_type": "code",
   "execution_count": 6,
   "metadata": {},
   "outputs": [],
   "source": [
    "innerHTML2 = browser.page_source\n",
    "\n",
    "soup2 = BeautifulSoup(innerHTML2,'lxml')"
   ]
  },
  {
   "cell_type": "code",
<<<<<<< HEAD
   "execution_count": 12,
   "metadata": {},
   "outputs": [],
   "source": [
    "productList = soup2.select(\".ProductCard-header\")"
=======
   "execution_count": 7,
   "metadata": {},
   "outputs": [],
   "source": [
    "productList = soup2.select(\".ProductCard-name\")"
>>>>>>> f9524a0a552a8bb4f67f22394dba79c504d62323
   ]
  },
  {
   "cell_type": "code",
<<<<<<< HEAD
   "execution_count": 13,
=======
   "execution_count": 8,
>>>>>>> f9524a0a552a8bb4f67f22394dba79c504d62323
   "metadata": {},
   "outputs": [
    {
     "data": {
      "text/plain": [
<<<<<<< HEAD
       "[<div class=\"ProductCard-header\"><h2 class=\"ProductCard-name\">Kulpmont Hand-Braided Gray Indoor/Outdoor Area Rug</h2><p class=\"ProductCard-manufacturer\" data-codeception-id=\"ProductCard-manufacturer\">By Wade Logan</p></div>,\n",
       " <div class=\"ProductCard-header\"><h2 class=\"ProductCard-name\">Clair Gray Area Rug</h2><p class=\"ProductCard-manufacturer\" data-codeception-id=\"ProductCard-manufacturer\">By Mistana</p></div>,\n",
       " <div class=\"ProductCard-header\"><h2 class=\"ProductCard-name\">Hillsby Blue/Orange Area Rug</h2><p class=\"ProductCard-manufacturer\" data-codeception-id=\"ProductCard-manufacturer\">By Mistana</p></div>,\n",
       " <div class=\"ProductCard-header\"><h2 class=\"ProductCard-name\">Mcguire Ivory/Silver Area Rug</h2><p class=\"ProductCard-manufacturer\" data-codeception-id=\"ProductCard-manufacturer\">By Mercury Row</p></div>,\n",
       " <div class=\"ProductCard-header\"><h2 class=\"ProductCard-name\">Brandt Gray Area Rug</h2><p class=\"ProductCard-manufacturer\" data-codeception-id=\"ProductCard-manufacturer\">By Mistana</p></div>,\n",
       " <div class=\"ProductCard-header\"><h2 class=\"ProductCard-name\">Brandt Gray Area Rug</h2><p class=\"ProductCard-manufacturer\" data-codeception-id=\"ProductCard-manufacturer\">By Mistana</p></div>,\n",
       " <div class=\"ProductCard-header\"><h2 class=\"ProductCard-name\">Gaines Power Loomed Natural Area Rug</h2><p class=\"ProductCard-manufacturer\" data-codeception-id=\"ProductCard-manufacturer\">By Charlton Home</p></div>,\n",
       " <div class=\"ProductCard-header\"><h2 class=\"ProductCard-name\">Hosking Doylestown Blue Area Rug</h2><p class=\"ProductCard-manufacturer\" data-codeception-id=\"ProductCard-manufacturer\">By Laurel Foundry Modern Farmhouse</p></div>,\n",
       " <div class=\"ProductCard-header\"><h2 class=\"ProductCard-name\">Fairburn Hand-Tufted Wool Navy/Ivory Area Rug</h2><p class=\"ProductCard-manufacturer\" data-codeception-id=\"ProductCard-manufacturer\">By House of Hampton</p></div>,\n",
       " <div class=\"ProductCard-header\"><h2 class=\"ProductCard-name\">Allard Hand-Hooked Aqua Area Rug</h2><p class=\"ProductCard-manufacturer\" data-codeception-id=\"ProductCard-manufacturer\">By Red Barrel Studio</p></div>,\n",
       " <div class=\"ProductCard-header\"><h2 class=\"ProductCard-name\">Engler States Map Beige/Blue Area Rug</h2><p class=\"ProductCard-manufacturer\" data-codeception-id=\"ProductCard-manufacturer\">By Zoomie Kids</p></div>,\n",
       " <div class=\"ProductCard-header\"><h2 class=\"ProductCard-name\">Susan Blue Area Rug</h2><p class=\"ProductCard-manufacturer\" data-codeception-id=\"ProductCard-manufacturer\">By Charlton Home</p></div>,\n",
       " <div class=\"ProductCard-header\"><h2 class=\"ProductCard-name\">Landen Ancient Aqua Area Rug</h2><p class=\"ProductCard-manufacturer\" data-codeception-id=\"ProductCard-manufacturer\">By Charlton Home</p></div>,\n",
       " <div class=\"ProductCard-header\"><h2 class=\"ProductCard-name\">Lilah Handmade Shag Gray Area Rug</h2><p class=\"ProductCard-manufacturer\" data-codeception-id=\"ProductCard-manufacturer\">By Andover Mills</p></div>,\n",
       " <div class=\"ProductCard-header\"><h2 class=\"ProductCard-name\">Youati Ivory/Gray Area Rug</h2><p class=\"ProductCard-manufacturer\" data-codeception-id=\"ProductCard-manufacturer\">By Laurel Foundry Modern Farmhouse</p></div>,\n",
       " <div class=\"ProductCard-header\"><h2 class=\"ProductCard-name\">Queen Charlton All Weather Unique Runner Kitchen Mat</h2><p class=\"ProductCard-manufacturer\" data-codeception-id=\"ProductCard-manufacturer\">By Bloomsbury Market</p></div>,\n",
       " <div class=\"ProductCard-header\"><h2 class=\"ProductCard-name\">Oakdene Hand-Tufted Polyester Ivory Area Rug</h2><p class=\"ProductCard-manufacturer\" data-codeception-id=\"ProductCard-manufacturer\">By Willa Arlo Interiors</p></div>,\n",
       " <div class=\"ProductCard-header\"><h2 class=\"ProductCard-name\">Grieve Light Gray/Cream Area Rug</h2><p class=\"ProductCard-manufacturer\" data-codeception-id=\"ProductCard-manufacturer\">By Bungalow Rose</p></div>,\n",
       " <div class=\"ProductCard-header\"><h2 class=\"ProductCard-name\">Annabel Power Loom Navy Blue Area Rug</h2><p class=\"ProductCard-manufacturer\" data-codeception-id=\"ProductCard-manufacturer\">By Bungalow Rose</p></div>,\n",
       " <div class=\"ProductCard-header\"><h2 class=\"ProductCard-name\">Massaoud Pink/Green Area Rug</h2><p class=\"ProductCard-manufacturer\" data-codeception-id=\"ProductCard-manufacturer\">By Bungalow Rose</p></div>,\n",
       " <div class=\"ProductCard-header\"><h2 class=\"ProductCard-name\">Shugart Sealife Multi-color Area Rug</h2><p class=\"ProductCard-manufacturer\" data-codeception-id=\"ProductCard-manufacturer\">By Wrought Studio</p></div>,\n",
       " <div class=\"ProductCard-header\"><h2 class=\"ProductCard-name\">Lilah Dark Gray Area Rug</h2><p class=\"ProductCard-manufacturer\" data-codeception-id=\"ProductCard-manufacturer\">By Andover Mills</p></div>,\n",
       " <div class=\"ProductCard-header\"><h2 class=\"ProductCard-name\">Colona Shag White Area Rug</h2><p class=\"ProductCard-manufacturer\" data-codeception-id=\"ProductCard-manufacturer\">By Mercury Row</p></div>,\n",
       " <div class=\"ProductCard-header\"><h2 class=\"ProductCard-name\">Caffey Cerulean Blue/Taupe Area Rug</h2><p class=\"ProductCard-manufacturer\" data-codeception-id=\"ProductCard-manufacturer\">By Andover Mills</p></div>,\n",
       " <div class=\"ProductCard-header\"><h2 class=\"ProductCard-name\">Brandt Area Rug</h2><p class=\"ProductCard-manufacturer\" data-codeception-id=\"ProductCard-manufacturer\">By Mistana</p></div>,\n",
       " <div class=\"ProductCard-header\"><h2 class=\"ProductCard-name\">Henderson Cream Area Rug</h2><p class=\"ProductCard-manufacturer\" data-codeception-id=\"ProductCard-manufacturer\">By Alcott Hill</p></div>,\n",
       " <div class=\"ProductCard-header\"><h2 class=\"ProductCard-name\">Brandt Dark Gray Area Rug</h2><p class=\"ProductCard-manufacturer\" data-codeception-id=\"ProductCard-manufacturer\">By Mistana</p></div>,\n",
       " <div class=\"ProductCard-header\"><h2 class=\"ProductCard-name\">Indira Gray &amp; Light Blue Area Rug</h2><p class=\"ProductCard-manufacturer\" data-codeception-id=\"ProductCard-manufacturer\">By Mistana</p></div>,\n",
       " <div class=\"ProductCard-header\"><h2 class=\"ProductCard-name\">Smithtown Taupe Area Rug</h2><p class=\"ProductCard-manufacturer\" data-codeception-id=\"ProductCard-manufacturer\">By Andover Mills</p></div>,\n",
       " <div class=\"ProductCard-header\"><h2 class=\"ProductCard-name\">Bismark Gray Area Rug</h2><p class=\"ProductCard-manufacturer\" data-codeception-id=\"ProductCard-manufacturer\">By Wade Logan</p></div>,\n",
       " <div class=\"ProductCard-header\"><h2 class=\"ProductCard-name\">Gwendolyn Pink Area Rug</h2><p class=\"ProductCard-manufacturer\" data-codeception-id=\"ProductCard-manufacturer\">By Viv + Rae</p></div>,\n",
       " <div class=\"ProductCard-header\"><h2 class=\"ProductCard-name\">Wayfair Basics Standing Desk Mat</h2><p class=\"ProductCard-manufacturer\" data-codeception-id=\"ProductCard-manufacturer\">By Wayfair Basics™</p></div>,\n",
       " <div class=\"ProductCard-header\"><h2 class=\"ProductCard-name\">Power Loom Aiken Ivory/Silver Area Rug</h2><p class=\"ProductCard-manufacturer\" data-codeception-id=\"ProductCard-manufacturer\">By Laurel Foundry Modern Farmhouse</p></div>,\n",
       " <div class=\"ProductCard-header\"><h2 class=\"ProductCard-name\">Grieve Cream/Navy Area Rug</h2><p class=\"ProductCard-manufacturer\" data-codeception-id=\"ProductCard-manufacturer\">By Bungalow Rose</p></div>,\n",
       " <div class=\"ProductCard-header\"><h2 class=\"ProductCard-name\">Brandt Light Brown Area Rug</h2><p class=\"ProductCard-manufacturer\" data-codeception-id=\"ProductCard-manufacturer\">By Mistana</p></div>,\n",
       " <div class=\"ProductCard-header\"><h2 class=\"ProductCard-name\">One-of-a-Kind Lederman Rag Hand-Knotted 4' x 6' Cotton Taupe Area Rug</h2><p class=\"ProductCard-manufacturer\" data-codeception-id=\"ProductCard-manufacturer\">By Bloomsbury Market</p></div>,\n",
       " <div class=\"ProductCard-header\"><h2 class=\"ProductCard-name\">Azha Broken Ivory/Light Gray Area Rug</h2><p class=\"ProductCard-manufacturer\" data-codeception-id=\"ProductCard-manufacturer\">By Mercury Row</p></div>,\n",
       " <div class=\"ProductCard-header\"><h2 class=\"ProductCard-name\">Wallner Power Loom Teal Blue Area Rug</h2><p class=\"ProductCard-manufacturer\" data-codeception-id=\"ProductCard-manufacturer\">By Wrought Studio</p></div>,\n",
       " <div class=\"ProductCard-header\"><h2 class=\"ProductCard-name\">Peoples Blue/Beige Area Rug</h2><p class=\"ProductCard-manufacturer\" data-codeception-id=\"ProductCard-manufacturer\">By Zipcode Design</p></div>,\n",
       " <div class=\"ProductCard-header\"><h2 class=\"ProductCard-name\">Catherine Power Loom Natural/Ivory Area Rug</h2><p class=\"ProductCard-manufacturer\" data-codeception-id=\"ProductCard-manufacturer\">By Alcott Hill</p></div>,\n",
       " <div class=\"ProductCard-header\"><h2 class=\"ProductCard-name\">Arend Blue/Ivory Area Rug</h2><p class=\"ProductCard-manufacturer\" data-codeception-id=\"ProductCard-manufacturer\">By Charlton Home</p></div>,\n",
       " <div class=\"ProductCard-header\"><h2 class=\"ProductCard-name\">Boho Power Loomed Ivory Area Rug</h2><p class=\"ProductCard-manufacturer\" data-codeception-id=\"ProductCard-manufacturer\">By CosmoLiving by Cosmopolitan</p></div>,\n",
       " <div class=\"ProductCard-header\"><h2 class=\"ProductCard-name\">One-of-a-Kind Antique Aubusson Tapestry Handwoven Wool/Silk Red/Blue Indoor Area Rug</h2><p class=\"ProductCard-manufacturer\" data-codeception-id=\"ProductCard-manufacturer\">By Mansour</p></div>,\n",
       " <div class=\"ProductCard-header\"><h2 class=\"ProductCard-name\">Helgeson Cream/Tan Area Rug</h2><p class=\"ProductCard-manufacturer\" data-codeception-id=\"ProductCard-manufacturer\">By Wade Logan</p></div>,\n",
       " <div class=\"ProductCard-header\"><h2 class=\"ProductCard-name\">Thaddeus Colorway Silver Area Rug</h2><p class=\"ProductCard-manufacturer\" data-codeception-id=\"ProductCard-manufacturer\">By Wade Logan</p></div>,\n",
       " <div class=\"ProductCard-header\"><h2 class=\"ProductCard-name\">Shiflett Gray/Blue/White Area Rug</h2><p class=\"ProductCard-manufacturer\" data-codeception-id=\"ProductCard-manufacturer\">By Andover Mills</p></div>,\n",
       " <div class=\"ProductCard-header\"><h2 class=\"ProductCard-name\">Brandt Light Beige Area Rug</h2><p class=\"ProductCard-manufacturer\" data-codeception-id=\"ProductCard-manufacturer\">By Mistana</p></div>,\n",
       " <div class=\"ProductCard-header\"><h2 class=\"ProductCard-name\">Melrose Polypropylene Gray/Yellow Area Rug</h2><p class=\"ProductCard-manufacturer\" data-codeception-id=\"ProductCard-manufacturer\">By Andover Mills</p></div>]"
      ]
     },
     "execution_count": 13,
=======
       "[]"
      ]
     },
     "execution_count": 8,
>>>>>>> f9524a0a552a8bb4f67f22394dba79c504d62323
     "metadata": {},
     "output_type": "execute_result"
    }
   ],
   "source": [
    "productList"
   ]
  },
  {
   "cell_type": "code",
<<<<<<< HEAD
   "execution_count": 14,
=======
   "execution_count": 16,
>>>>>>> f9524a0a552a8bb4f67f22394dba79c504d62323
   "metadata": {},
   "outputs": [
    {
     "data": {
      "text/plain": [
<<<<<<< HEAD
       "<div class=\"ProductCard-header\"><h2 class=\"ProductCard-name\">Kulpmont Hand-Braided Gray Indoor/Outdoor Area Rug</h2><p class=\"ProductCard-manufacturer\" data-codeception-id=\"ProductCard-manufacturer\">By Wade Logan</p></div>"
      ]
     },
     "execution_count": 14,
=======
       "<div class=\"ProductCard-details\"><div class=\"ProductCard-options ProductCard-options--sticky\"><span class=\"ProductCard-moreOptions\">More Options</span></div><div class=\"ProductCard-header\"><h2 class=\"ProductCard-name\">Clair Gray Area Rug</h2><p class=\"ProductCard-manufacturer\" data-codeception-id=\"ProductCard-manufacturer\">By Mistana</p></div><div class=\"ProductCard-pricing\"><span class=\"ProductCard-price ProductCard-price--sale\">$27.99 - $384.99</span></div><div class=\"ProductCard-reviews\"><div class=\"pl-ReviewStars\" data-hb-id=\"pl_review_stars\"><div class=\"pl-ReviewStars-stars\"><svg aria-hidden=\"true\" class=\"u-icon pl-ReviewStars-scale\" data-hb-id=\"pl_icon\" xmlns=\"http://www.w3.org/2000/svg\"><use xlink:href=\"#wf-icon-review-stars\" xmlns:xlink=\"http://www.w3.org/1999/xlink\"></use></svg><div class=\"pl-ReviewStars-rating\" style=\"width: 100.4%;\"><svg aria-hidden=\"true\" class=\"u-icon pl-ReviewStars-scale is-filled\" data-hb-id=\"pl_icon\" xmlns=\"http://www.w3.org/2000/svg\"><use xlink:href=\"#wf-icon-review-stars\" xmlns:xlink=\"http://www.w3.org/1999/xlink\"></use></svg></div></div> <p aria-hidden=\"true\" class=\"pl-ReviewStars-reviews\">16418</p><p class=\"pl-VisuallyHidden\">Rated 5 out of 5 stars.16418 total votes.</p></div></div></div>"
      ]
     },
     "execution_count": 16,
>>>>>>> f9524a0a552a8bb4f67f22394dba79c504d62323
     "metadata": {},
     "output_type": "execute_result"
    }
   ],
   "source": [
    "productList[0]"
   ]
<<<<<<< HEAD
  },
  {
   "cell_type": "code",
   "execution_count": null,
   "metadata": {},
   "outputs": [],
   "source": []
=======
>>>>>>> f9524a0a552a8bb4f67f22394dba79c504d62323
  }
 ],
 "metadata": {
  "kernelspec": {
   "display_name": "Python 3",
   "language": "python",
   "name": "python3"
  },
  "language_info": {
   "codemirror_mode": {
    "name": "ipython",
    "version": 3
   },
   "file_extension": ".py",
   "mimetype": "text/x-python",
   "name": "python",
   "nbconvert_exporter": "python",
   "pygments_lexer": "ipython3",
   "version": "3.6.5"
  }
 },
 "nbformat": 4,
 "nbformat_minor": 2
}
