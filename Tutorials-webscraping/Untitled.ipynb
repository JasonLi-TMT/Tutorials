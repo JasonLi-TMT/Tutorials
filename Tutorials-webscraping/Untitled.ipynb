{
 "cells": [
  {
   "cell_type": "code",
   "execution_count": 1,
   "metadata": {},
   "outputs": [
    {
     "name": "stdout",
     "output_type": "stream",
     "text": [
      "\u001b[1m\u001b[36mTMDB_poster\u001b[m\u001b[m                 step3.2_Amazon.ipynb\r\n",
      "Untitled.ipynb              \u001b[31mstep3.3_Twitter.ipynb\u001b[m\u001b[m\r\n",
      "\u001b[31mchromedriver\u001b[m\u001b[m                step4.1_YelpReview.ipynb\r\n",
      "step1.1_IMDB.ipynb          step_testing_Weibo.ipynb\r\n",
      "step1.2_TMDB.ipynb          step_testing_Yelp.ipynb\r\n",
      "step2.1_Sephora.ipynb       step_testing_ubereats.ipynb\r\n",
      "step2.2_Wayfair.ipynb       \u001b[1m\u001b[36mtutorials\u001b[m\u001b[m\r\n",
      "step3.1_Instagram.ipynb\r\n"
     ]
    }
   ],
   "source": [
    "!ls"
   ]
  },
  {
   "cell_type": "code",
   "execution_count": 2,
   "metadata": {},
   "outputs": [
    {
     "name": "stdout",
     "output_type": "stream",
     "text": [
      "Requirement already satisfied: requests in /Users/zili/anaconda3/lib/python3.6/site-packages (2.18.4)\r\n",
      "Requirement already satisfied: chardet<3.1.0,>=3.0.2 in /Users/zili/anaconda3/lib/python3.6/site-packages (from requests) (3.0.4)\r\n",
      "Requirement already satisfied: idna<2.7,>=2.5 in /Users/zili/anaconda3/lib/python3.6/site-packages (from requests) (2.6)\r\n",
      "Requirement already satisfied: urllib3<1.23,>=1.21.1 in /Users/zili/anaconda3/lib/python3.6/site-packages (from requests) (1.22)\r\n",
      "Requirement already satisfied: certifi>=2017.4.17 in /Users/zili/anaconda3/lib/python3.6/site-packages (from requests) (2018.4.16)\r\n"
     ]
    }
   ],
   "source": [
    "!pip install requests"
   ]
  },
  {
   "cell_type": "code",
   "execution_count": 3,
   "metadata": {},
   "outputs": [
    {
     "name": "stdout",
     "output_type": "stream",
     "text": [
      "Requirement already satisfied: selenium in /Users/zili/anaconda3/lib/python3.6/site-packages (3.14.1)\r\n",
      "Requirement already satisfied: urllib3 in /Users/zili/anaconda3/lib/python3.6/site-packages (from selenium) (1.22)\r\n"
     ]
    }
   ],
   "source": [
    "!pip install selenium"
   ]
  },
  {
   "cell_type": "code",
   "execution_count": 4,
   "metadata": {},
   "outputs": [
    {
     "name": "stdout",
     "output_type": "stream",
     "text": [
      "Requirement already satisfied: bs4 in /Users/zili/anaconda3/lib/python3.6/site-packages (0.0.1)\r\n",
      "Requirement already satisfied: beautifulsoup4 in /Users/zili/anaconda3/lib/python3.6/site-packages (from bs4) (4.6.0)\r\n"
     ]
    }
   ],
   "source": [
    "!pip install bs4"
   ]
  },
  {
   "cell_type": "code",
   "execution_count": 5,
   "metadata": {},
   "outputs": [
    {
     "name": "stdout",
     "output_type": "stream",
     "text": [
      "/Users/zili/Documents/projects/webscraping\r\n"
     ]
    }
   ],
   "source": [
    "!pwd"
   ]
  },
  {
   "cell_type": "code",
   "execution_count": null,
   "metadata": {},
   "outputs": [],
   "source": []
  }
 ],
 "metadata": {
  "kernelspec": {
   "display_name": "Python 3",
   "language": "python",
   "name": "python3"
  },
  "language_info": {
   "codemirror_mode": {
    "name": "ipython",
    "version": 3
   },
   "file_extension": ".py",
   "mimetype": "text/x-python",
   "name": "python",
   "nbconvert_exporter": "python",
   "pygments_lexer": "ipython3",
   "version": "3.6.5"
  }
 },
 "nbformat": 4,
 "nbformat_minor": 2
}
