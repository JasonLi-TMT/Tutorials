{
 "cells": [
  {
   "cell_type": "code",
   "execution_count": 16,
   "metadata": {},
   "outputs": [],
   "source": [
    "from bs4 import BeautifulSoup\n",
    "import requests\n",
    "from lxml import html\n",
    "from urllib.request import Request, urlopen\n",
    "import urllib.request\n",
    "from selenium import webdriver\n",
    "import os"
   ]
  },
  {
   "cell_type": "code",
   "execution_count": 17,
   "metadata": {},
   "outputs": [],
   "source": [
    "url = \"https://www.weibo.com/us\"\n",
    "\n",
    "options = webdriver.ChromeOptions()\n",
    "options.add_argument('--headless')\n",
    "\n",
    "# browser = webdriver.Chrome(executable_path=\"/Users/zili/Documents/projects/webscraping/chromedriver\",options=options)\n",
    "browser = webdriver.Chrome(executable_path=\"./chromedriver\")\n",
    "\n",
    "browser.get(url)\n",
    "innerHTML = browser.page_source #returns the inner HTML as a string\n",
    "\n",
    "soup = BeautifulSoup(innerHTML,'lxml')"
   ]
  },
  {
   "cell_type": "code",
   "execution_count": 18,
   "metadata": {},
   "outputs": [],
   "source": [
    "username = browser.find_element_by_id(\"loginname\")\n",
    "password = browser.find_element_by_name(\"password\")"
   ]
  },
  {
   "cell_type": "code",
   "execution_count": 19,
   "metadata": {},
   "outputs": [],
   "source": [
    "username.send_keys('13842641803')"
   ]
  },
  {
   "cell_type": "code",
   "execution_count": 20,
   "metadata": {},
   "outputs": [],
   "source": [
    "password.send_keys(\"Jasonli1\")"
   ]
  },
  {
   "cell_type": "code",
   "execution_count": 21,
   "metadata": {},
   "outputs": [],
   "source": [
    "loginButton = browser.find_element_by_css_selector('.W_btn_a.btn_32px')"
   ]
  },
  {
   "cell_type": "code",
   "execution_count": 22,
   "metadata": {},
   "outputs": [],
   "source": [
    "loginButton.click()"
   ]
  },
  {
   "cell_type": "code",
   "execution_count": 9,
   "metadata": {},
   "outputs": [
    {
     "data": {
      "text/plain": [
       "[<a action-type=\"btn_submit\" class=\"W_btn_a btn_32px\" href=\"javascript:void(0)\" node-type=\"submitBtn\" suda-data=\"key=tblog_weibologin3&amp;value=click_sign\" tabindex=\"6\"><span node-type=\"submitStates\">登录</span></a>,\n",
       " <a class=\"W_btn_a btn_32px\" href=\"https://www.facebook.com/dialog/oauth?client_id=419999628413930&amp;redirect_uri=http%3A%2F%2Faccount.weibo.com%2Fbindsns%2Fcallback%2Fcallbackfb&amp;state=036dab8192dcf9452529dc62609616e9&amp;scope=\">使用 Facebook 登录</a>,\n",
       " <a action-type=\"btn_submit\" class=\"W_btn_a btn_32px\" href=\"javascript:void(0)\" node-type=\"submitBtn\" suda-data=\"key=tblog_weibologin3&amp;value=click_sign\"><span node-type=\"submitStates\">登录</span></a>]"
      ]
     },
     "execution_count": 9,
     "metadata": {},
     "output_type": "execute_result"
    }
   ],
   "source": [
    "soup.select(\".W_btn_a.btn_32px\")"
   ]
  }
 ],
 "metadata": {
  "kernelspec": {
   "display_name": "Python 3",
   "language": "python",
   "name": "python3"
  },
  "language_info": {
   "codemirror_mode": {
    "name": "ipython",
    "version": 3
   },
   "file_extension": ".py",
   "mimetype": "text/x-python",
   "name": "python",
   "nbconvert_exporter": "python",
   "pygments_lexer": "ipython3",
   "version": "3.6.5"
  }
 },
 "nbformat": 4,
 "nbformat_minor": 2
}
